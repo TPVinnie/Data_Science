{
 "cells": [
  {
   "cell_type": "markdown",
   "id": "020b85b1",
   "metadata": {},
   "source": [
    "# <center><FONT COLOR=RED size=36>10. SETS IN PYTHON<FONT>"
   ]
  },
  {
   "cell_type": "markdown",
   "id": "39b6fada",
   "metadata": {},
   "source": [
    "# <font size=16>Sets in Python<font>\n",
    " - Sets are unodered, none duplicates\n",
    " - Uses curcle brackets { }\n",
    " - sets elements are immutable but the set as a whole is mutable\n",
    " - no order; therefore no indexes associated with it"
   ]
  },
  {
   "cell_type": "code",
   "execution_count": 7,
   "id": "ac49fbb3",
   "metadata": {},
   "outputs": [
    {
     "name": "stdout",
     "output_type": "stream",
     "text": [
      "Help on class set in module builtins:\n",
      "\n",
      "class set(object)\n",
      " |  set() -> new empty set object\n",
      " |  set(iterable) -> new set object\n",
      " |  \n",
      " |  Build an unordered collection of unique elements.\n",
      " |  \n",
      " |  Methods defined here:\n",
      " |  \n",
      " |  __and__(self, value, /)\n",
      " |      Return self&value.\n",
      " |  \n",
      " |  __contains__(...)\n",
      " |      x.__contains__(y) <==> y in x.\n",
      " |  \n",
      " |  __eq__(self, value, /)\n",
      " |      Return self==value.\n",
      " |  \n",
      " |  __ge__(self, value, /)\n",
      " |      Return self>=value.\n",
      " |  \n",
      " |  __getattribute__(self, name, /)\n",
      " |      Return getattr(self, name).\n",
      " |  \n",
      " |  __gt__(self, value, /)\n",
      " |      Return self>value.\n",
      " |  \n",
      " |  __iand__(self, value, /)\n",
      " |      Return self&=value.\n",
      " |  \n",
      " |  __init__(self, /, *args, **kwargs)\n",
      " |      Initialize self.  See help(type(self)) for accurate signature.\n",
      " |  \n",
      " |  __ior__(self, value, /)\n",
      " |      Return self|=value.\n",
      " |  \n",
      " |  __isub__(self, value, /)\n",
      " |      Return self-=value.\n",
      " |  \n",
      " |  __iter__(self, /)\n",
      " |      Implement iter(self).\n",
      " |  \n",
      " |  __ixor__(self, value, /)\n",
      " |      Return self^=value.\n",
      " |  \n",
      " |  __le__(self, value, /)\n",
      " |      Return self<=value.\n",
      " |  \n",
      " |  __len__(self, /)\n",
      " |      Return len(self).\n",
      " |  \n",
      " |  __lt__(self, value, /)\n",
      " |      Return self<value.\n",
      " |  \n",
      " |  __ne__(self, value, /)\n",
      " |      Return self!=value.\n",
      " |  \n",
      " |  __or__(self, value, /)\n",
      " |      Return self|value.\n",
      " |  \n",
      " |  __rand__(self, value, /)\n",
      " |      Return value&self.\n",
      " |  \n",
      " |  __reduce__(...)\n",
      " |      Return state information for pickling.\n",
      " |  \n",
      " |  __repr__(self, /)\n",
      " |      Return repr(self).\n",
      " |  \n",
      " |  __ror__(self, value, /)\n",
      " |      Return value|self.\n",
      " |  \n",
      " |  __rsub__(self, value, /)\n",
      " |      Return value-self.\n",
      " |  \n",
      " |  __rxor__(self, value, /)\n",
      " |      Return value^self.\n",
      " |  \n",
      " |  __sizeof__(...)\n",
      " |      S.__sizeof__() -> size of S in memory, in bytes\n",
      " |  \n",
      " |  __sub__(self, value, /)\n",
      " |      Return self-value.\n",
      " |  \n",
      " |  __xor__(self, value, /)\n",
      " |      Return self^value.\n",
      " |  \n",
      " |  add(...)\n",
      " |      Add an element to a set.\n",
      " |      \n",
      " |      This has no effect if the element is already present.\n",
      " |  \n",
      " |  clear(...)\n",
      " |      Remove all elements from this set.\n",
      " |  \n",
      " |  copy(...)\n",
      " |      Return a shallow copy of a set.\n",
      " |  \n",
      " |  difference(...)\n",
      " |      Return the difference of two or more sets as a new set.\n",
      " |      \n",
      " |      (i.e. all elements that are in this set but not the others.)\n",
      " |  \n",
      " |  difference_update(...)\n",
      " |      Remove all elements of another set from this set.\n",
      " |  \n",
      " |  discard(...)\n",
      " |      Remove an element from a set if it is a member.\n",
      " |      \n",
      " |      If the element is not a member, do nothing.\n",
      " |  \n",
      " |  intersection(...)\n",
      " |      Return the intersection of two sets as a new set.\n",
      " |      \n",
      " |      (i.e. all elements that are in both sets.)\n",
      " |  \n",
      " |  intersection_update(...)\n",
      " |      Update a set with the intersection of itself and another.\n",
      " |  \n",
      " |  isdisjoint(...)\n",
      " |      Return True if two sets have a null intersection.\n",
      " |  \n",
      " |  issubset(...)\n",
      " |      Report whether another set contains this set.\n",
      " |  \n",
      " |  issuperset(...)\n",
      " |      Report whether this set contains another set.\n",
      " |  \n",
      " |  pop(...)\n",
      " |      Remove and return an arbitrary set element.\n",
      " |      Raises KeyError if the set is empty.\n",
      " |  \n",
      " |  remove(...)\n",
      " |      Remove an element from a set; it must be a member.\n",
      " |      \n",
      " |      If the element is not a member, raise a KeyError.\n",
      " |  \n",
      " |  symmetric_difference(...)\n",
      " |      Return the symmetric difference of two sets as a new set.\n",
      " |      \n",
      " |      (i.e. all elements that are in exactly one of the sets.)\n",
      " |  \n",
      " |  symmetric_difference_update(...)\n",
      " |      Update a set with the symmetric difference of itself and another.\n",
      " |  \n",
      " |  union(...)\n",
      " |      Return the union of sets as a new set.\n",
      " |      \n",
      " |      (i.e. all elements that are in either set.)\n",
      " |  \n",
      " |  update(...)\n",
      " |      Update a set with the union of itself and others.\n",
      " |  \n",
      " |  ----------------------------------------------------------------------\n",
      " |  Class methods defined here:\n",
      " |  \n",
      " |  __class_getitem__(...) from builtins.type\n",
      " |      See PEP 585\n",
      " |  \n",
      " |  ----------------------------------------------------------------------\n",
      " |  Static methods defined here:\n",
      " |  \n",
      " |  __new__(*args, **kwargs) from builtins.type\n",
      " |      Create and return a new object.  See help(type) for accurate signature.\n",
      " |  \n",
      " |  ----------------------------------------------------------------------\n",
      " |  Data and other attributes defined here:\n",
      " |  \n",
      " |  __hash__ = None\n",
      "\n"
     ]
    }
   ],
   "source": [
    "help(set)"
   ]
  },
  {
   "cell_type": "markdown",
   "id": "6e4196d1",
   "metadata": {},
   "source": [
    "# Creating sets"
   ]
  },
  {
   "cell_type": "markdown",
   "id": "f5ac1fb0",
   "metadata": {},
   "source": [
    "## Use curly braces"
   ]
  },
  {
   "cell_type": "code",
   "execution_count": 9,
   "id": "2e6840e5",
   "metadata": {},
   "outputs": [
    {
     "name": "stdout",
     "output_type": "stream",
     "text": [
      "{'oranges', 'peaches', 'pears', 'guavas', 'bananas', 'apples'}\n"
     ]
    }
   ],
   "source": [
    "# Use curle brackets\n",
    "\n",
    "set1 = {'apples', 'pears', 'oranges', 'pears', 'peaches', 'bananas', 'apples','guavas', 'guavas'}\n",
    "\n",
    "print(set1)"
   ]
  },
  {
   "cell_type": "markdown",
   "id": "02554a2c",
   "metadata": {},
   "source": [
    "## Use set function "
   ]
  },
  {
   "cell_type": "code",
   "execution_count": 10,
   "id": "9d11adbf",
   "metadata": {},
   "outputs": [
    {
     "name": "stdout",
     "output_type": "stream",
     "text": [
      "set()\n"
     ]
    }
   ],
   "source": [
    "# Empty set\n",
    "myset = set()\n",
    "print(myset)"
   ]
  },
  {
   "cell_type": "code",
   "execution_count": 11,
   "id": "f16d8735",
   "metadata": {},
   "outputs": [
    {
     "data": {
      "text/plain": [
       "{'Monday', 'Thursday', 'Tuesday', 'Wednesday'}"
      ]
     },
     "execution_count": 11,
     "metadata": {},
     "output_type": "execute_result"
    }
   ],
   "source": [
    "# changing from list to set\n",
    "\n",
    "lst1 = [\"Monday\", \"Tuesday\", \"Wednesday\", \"Thursday\"]\n",
    "\n",
    "set(lst1)"
   ]
  },
  {
   "cell_type": "markdown",
   "id": "34e7046b",
   "metadata": {},
   "source": [
    "# Set Operations"
   ]
  },
  {
   "cell_type": "markdown",
   "id": "8233dd33",
   "metadata": {},
   "source": [
    "## Getting Values from a Set"
   ]
  },
  {
   "cell_type": "code",
   "execution_count": 12,
   "id": "f235192b",
   "metadata": {},
   "outputs": [
    {
     "name": "stdout",
     "output_type": "stream",
     "text": [
      "Monday\n",
      "Thursday\n",
      "Tuesday\n",
      "Wednesday\n"
     ]
    }
   ],
   "source": [
    "set0 = {'Monday', 'Thursday', 'Tuesday', 'Wednesday'}\n",
    "\n",
    "for d in set0:\n",
    "    print(d)"
   ]
  },
  {
   "cell_type": "markdown",
   "id": "00de2d86",
   "metadata": {},
   "source": [
    "## adding new elements"
   ]
  },
  {
   "cell_type": "code",
   "execution_count": 14,
   "id": "fc06e152",
   "metadata": {},
   "outputs": [
    {
     "data": {
      "text/plain": [
       "{'Friday', 'Monday', 'Saturday', 'Sunday', 'Thursday', 'Tuesday', 'Wednesday'}"
      ]
     },
     "execution_count": 14,
     "metadata": {},
     "output_type": "execute_result"
    }
   ],
   "source": [
    "set0 = {'Monday', 'Thursday', 'Tuesday', 'Wednesday'}\n",
    "\n",
    "set0.update({\"Friday\",\"Saturday\",\"Sunday\"})\n",
    "\n",
    "set0"
   ]
  },
  {
   "cell_type": "code",
   "execution_count": 66,
   "id": "0701ddff",
   "metadata": {},
   "outputs": [
    {
     "name": "stdout",
     "output_type": "stream",
     "text": [
      "{'apples', 'mangoes', 'pears', 'bananas', 'papaya', 'leaches', 'peaches', 'oranges', 'guavas'}\n"
     ]
    }
   ],
   "source": [
    "set1.add(\"papaya\")\n",
    "print(set1)"
   ]
  },
  {
   "cell_type": "code",
   "execution_count": 70,
   "id": "e4ffb79a",
   "metadata": {},
   "outputs": [
    {
     "name": "stdout",
     "output_type": "stream",
     "text": [
      "{'apples', 'mangoes', 'pears', 'bananas', 'papaya', 'leaches', 'peaches', 'oranges', 'guavas'}\n"
     ]
    }
   ],
   "source": [
    "set1.update(['leaches', 'mangoes'])\n",
    "\n",
    "print(set1)"
   ]
  },
  {
   "cell_type": "code",
   "execution_count": 72,
   "id": "0920775c",
   "metadata": {},
   "outputs": [
    {
     "name": "stdout",
     "output_type": "stream",
     "text": [
      "{'mangoes', 'pears', 'bananas', 'papaya', 'leaches', 'peaches', 'oranges', 'guavas'}\n"
     ]
    }
   ],
   "source": [
    "set1.discard(\"apples\")\n",
    "print(set1)"
   ]
  },
  {
   "cell_type": "markdown",
   "id": "3da283dd",
   "metadata": {},
   "source": [
    "## Getting values from a set"
   ]
  },
  {
   "cell_type": "code",
   "execution_count": 74,
   "id": "bf64a611",
   "metadata": {},
   "outputs": [
    {
     "name": "stdout",
     "output_type": "stream",
     "text": [
      "mangoes\n",
      "pears\n",
      "bananas\n",
      "papaya\n",
      "leaches\n",
      "peaches\n",
      "oranges\n",
      "guavas\n"
     ]
    }
   ],
   "source": [
    "for item in set1:\n",
    "    print(item)"
   ]
  },
  {
   "cell_type": "code",
   "execution_count": 5,
   "id": "344c29e7",
   "metadata": {},
   "outputs": [
    {
     "ename": "TypeError",
     "evalue": "'set' object is not subscriptable",
     "output_type": "error",
     "traceback": [
      "\u001b[0;31m---------------------------------------------------------------------------\u001b[0m",
      "\u001b[0;31mTypeError\u001b[0m                                 Traceback (most recent call last)",
      "\u001b[0;32m/var/folders/yn/bgdm1mhs37b6r_38shjd1v5c0000gn/T/ipykernel_66724/4154493181.py\u001b[0m in \u001b[0;36m<module>\u001b[0;34m\u001b[0m\n\u001b[1;32m      2\u001b[0m \u001b[0;34m\u001b[0m\u001b[0m\n\u001b[1;32m      3\u001b[0m \u001b[0mset1\u001b[0m \u001b[0;34m=\u001b[0m \u001b[0;34m{\u001b[0m\u001b[0;34m'mangoes'\u001b[0m\u001b[0;34m,\u001b[0m \u001b[0;34m'pears'\u001b[0m\u001b[0;34m,\u001b[0m \u001b[0;34m'bananas'\u001b[0m\u001b[0;34m,\u001b[0m \u001b[0;34m'papaya'\u001b[0m\u001b[0;34m,\u001b[0m\u001b[0;34m'leaches'\u001b[0m\u001b[0;34m,\u001b[0m \u001b[0;34m'peaches'\u001b[0m\u001b[0;34m,\u001b[0m \u001b[0;34m'oranges'\u001b[0m\u001b[0;34m,\u001b[0m \u001b[0;34m'guavas'\u001b[0m\u001b[0;34m}\u001b[0m\u001b[0;34m\u001b[0m\u001b[0;34m\u001b[0m\u001b[0m\n\u001b[0;32m----> 4\u001b[0;31m \u001b[0mprint\u001b[0m\u001b[0;34m(\u001b[0m\u001b[0mset1\u001b[0m\u001b[0;34m[\u001b[0m\u001b[0;36m0\u001b[0m\u001b[0;34m]\u001b[0m\u001b[0;34m)\u001b[0m\u001b[0;34m\u001b[0m\u001b[0;34m\u001b[0m\u001b[0m\n\u001b[0m",
      "\u001b[0;31mTypeError\u001b[0m: 'set' object is not subscriptable"
     ]
    }
   ],
   "source": [
    "# set is unordered, so no indexes\n",
    "\n",
    "set1 = {'mangoes', 'pears', 'bananas', 'papaya','leaches', 'peaches', 'oranges', 'guavas'}\n",
    "print(set1[0])"
   ]
  },
  {
   "cell_type": "code",
   "execution_count": null,
   "id": "f2c4306e",
   "metadata": {},
   "outputs": [],
   "source": []
  },
  {
   "cell_type": "code",
   "execution_count": null,
   "id": "44be5d09",
   "metadata": {},
   "outputs": [],
   "source": []
  },
  {
   "cell_type": "markdown",
   "id": "3383388b",
   "metadata": {},
   "source": [
    "# Set operations"
   ]
  },
  {
   "cell_type": "code",
   "execution_count": 15,
   "id": "1e0f94e3",
   "metadata": {},
   "outputs": [],
   "source": [
    "setA = {5,7,9,5,2,4}\n",
    "setB = {2,5,8,0,9}\n",
    "setC = {3,6,8,0,8}"
   ]
  },
  {
   "cell_type": "markdown",
   "id": "43205df0",
   "metadata": {},
   "source": [
    "## Intersection of sets"
   ]
  },
  {
   "cell_type": "code",
   "execution_count": 16,
   "id": "e9b04be8",
   "metadata": {},
   "outputs": [
    {
     "data": {
      "text/plain": [
       "{2, 5, 9}"
      ]
     },
     "execution_count": 16,
     "metadata": {},
     "output_type": "execute_result"
    }
   ],
   "source": [
    "setA.intersection(setB)"
   ]
  },
  {
   "cell_type": "code",
   "execution_count": 17,
   "id": "e4f5f3e8",
   "metadata": {},
   "outputs": [
    {
     "data": {
      "text/plain": [
       "{2, 5, 9}"
      ]
     },
     "execution_count": 17,
     "metadata": {},
     "output_type": "execute_result"
    }
   ],
   "source": [
    "setA & setB"
   ]
  },
  {
   "cell_type": "markdown",
   "id": "9535d9a8",
   "metadata": {},
   "source": [
    "### Union"
   ]
  },
  {
   "cell_type": "code",
   "execution_count": 80,
   "id": "bbb018b5",
   "metadata": {},
   "outputs": [
    {
     "name": "stdout",
     "output_type": "stream",
     "text": [
      "{0, 2, 3, 4, 5, 6, 7, 8, 9}\n"
     ]
    }
   ],
   "source": [
    "print(setA.union (setC))"
   ]
  },
  {
   "cell_type": "code",
   "execution_count": 81,
   "id": "41459cfe",
   "metadata": {},
   "outputs": [
    {
     "name": "stdout",
     "output_type": "stream",
     "text": [
      "{0, 2, 4, 5, 7, 8, 9}\n"
     ]
    }
   ],
   "source": [
    "print(setA|setB)"
   ]
  },
  {
   "cell_type": "code",
   "execution_count": 82,
   "id": "5d7e8545",
   "metadata": {},
   "outputs": [
    {
     "name": "stdout",
     "output_type": "stream",
     "text": [
      "{0, 2, 3, 4, 5, 6, 7, 8, 9}\n"
     ]
    }
   ],
   "source": [
    "print(setA.union(setB,setC))"
   ]
  },
  {
   "cell_type": "code",
   "execution_count": 83,
   "id": "d51117a1",
   "metadata": {},
   "outputs": [
    {
     "name": "stdout",
     "output_type": "stream",
     "text": [
      "{0, 2, 3, 4, 5, 6, 7, 8, 9}\n"
     ]
    }
   ],
   "source": [
    "setA.update(setB,setC)\n",
    "print(setA)"
   ]
  },
  {
   "cell_type": "markdown",
   "id": "adc1a598",
   "metadata": {},
   "source": [
    "### Union and Intersection Note\n",
    " - A.intersection(B,C) returns the intersection of A, B,C.\n",
    " - A.intersection_update(B) updates A with the intersection of A and B. [See this article](https://www.alphacodingskills.com/python/notes/python-set-intersection-update.php)"
   ]
  },
  {
   "cell_type": "code",
   "execution_count": 84,
   "id": "cff8c373",
   "metadata": {},
   "outputs": [
    {
     "name": "stdout",
     "output_type": "stream",
     "text": [
      "{0, 2, 5, 8, 9}\n"
     ]
    }
   ],
   "source": [
    "print(setA & setB) "
   ]
  },
  {
   "cell_type": "code",
   "execution_count": 85,
   "id": "e06cfd8c",
   "metadata": {},
   "outputs": [
    {
     "name": "stdout",
     "output_type": "stream",
     "text": [
      "{8, 0, 3, 6}\n"
     ]
    }
   ],
   "source": [
    "print(setA.intersection(setC))"
   ]
  },
  {
   "cell_type": "code",
   "execution_count": 86,
   "id": "eed52246",
   "metadata": {},
   "outputs": [
    {
     "name": "stdout",
     "output_type": "stream",
     "text": [
      "{0, 2, 5, 8, 9}\n"
     ]
    }
   ],
   "source": [
    "setA.intersection_update(setB)\n",
    "\n",
    "print(setA)"
   ]
  },
  {
   "cell_type": "code",
   "execution_count": 89,
   "id": "9a5eb16f",
   "metadata": {},
   "outputs": [
    {
     "data": {
      "text/plain": [
       "{0, 8}"
      ]
     },
     "execution_count": 89,
     "metadata": {},
     "output_type": "execute_result"
    }
   ],
   "source": [
    "setA & setB & setC"
   ]
  },
  {
   "cell_type": "code",
   "execution_count": 93,
   "id": "1a0296cb",
   "metadata": {},
   "outputs": [
    {
     "name": "stdout",
     "output_type": "stream",
     "text": [
      "{8, 0}\n"
     ]
    }
   ],
   "source": [
    "# A.intersection_update(B) updates set A with the intersection of A and B.\n",
    "\n",
    "\n",
    "setA.intersection_update(setB,setC)\n",
    "\n",
    "print(setA)"
   ]
  },
  {
   "cell_type": "code",
   "execution_count": 96,
   "id": "71ddcb9d",
   "metadata": {},
   "outputs": [
    {
     "name": "stdout",
     "output_type": "stream",
     "text": [
      "0\n",
      "2\n",
      "5\n",
      "8\n",
      "9\n"
     ]
    }
   ],
   "source": [
    "for item in setB:\n",
    "    print(item)"
   ]
  },
  {
   "cell_type": "markdown",
   "id": "6a117fb3",
   "metadata": {},
   "source": [
    "## Difference"
   ]
  },
  {
   "cell_type": "code",
   "execution_count": 18,
   "id": "23bd693e",
   "metadata": {},
   "outputs": [
    {
     "name": "stdout",
     "output_type": "stream",
     "text": [
      "{10}\n"
     ]
    }
   ],
   "source": [
    "setD = {5,7,9,5,2,10}\n",
    "setE = {2,5,8,0,9,7}\n",
    "setF = {3,6,8,0,8,2}\n",
    "\n",
    "\n",
    "print(setD.difference(setE))"
   ]
  },
  {
   "cell_type": "markdown",
   "id": "63be71c7",
   "metadata": {},
   "source": [
    "### Symmetric difference\n",
    " - Symmetric difference returns what is not present in both sets ie (A U B)'"
   ]
  },
  {
   "cell_type": "code",
   "execution_count": 110,
   "id": "ea45a325",
   "metadata": {},
   "outputs": [
    {
     "name": "stdout",
     "output_type": "stream",
     "text": [
      "{0, 8, 10}\n"
     ]
    }
   ],
   "source": [
    "print(setD^setE)"
   ]
  },
  {
   "cell_type": "markdown",
   "id": "d660a295",
   "metadata": {},
   "source": [
    "### Sub-set, superset, disjoint"
   ]
  },
  {
   "cell_type": "code",
   "execution_count": 23,
   "id": "7ba91044",
   "metadata": {},
   "outputs": [],
   "source": [
    "setG = {5,7,9,5,2,10}\n",
    "setH = {5,9,7}\n",
    "setI = {3,6,8,0,8,2}"
   ]
  },
  {
   "cell_type": "code",
   "execution_count": 24,
   "id": "67c6b47a",
   "metadata": {},
   "outputs": [
    {
     "data": {
      "text/plain": [
       "False"
      ]
     },
     "execution_count": 24,
     "metadata": {},
     "output_type": "execute_result"
    }
   ],
   "source": [
    "setG.issubset(setH)"
   ]
  },
  {
   "cell_type": "code",
   "execution_count": 25,
   "id": "25676625",
   "metadata": {},
   "outputs": [
    {
     "data": {
      "text/plain": [
       "True"
      ]
     },
     "execution_count": 25,
     "metadata": {},
     "output_type": "execute_result"
    }
   ],
   "source": [
    "setH.issubset(setG)"
   ]
  },
  {
   "cell_type": "code",
   "execution_count": 26,
   "id": "571aadd5",
   "metadata": {},
   "outputs": [
    {
     "data": {
      "text/plain": [
       "True"
      ]
     },
     "execution_count": 26,
     "metadata": {},
     "output_type": "execute_result"
    }
   ],
   "source": [
    "setG.issuperset(setH)"
   ]
  },
  {
   "cell_type": "code",
   "execution_count": 27,
   "id": "dc3f7525",
   "metadata": {},
   "outputs": [
    {
     "data": {
      "text/plain": [
       "False"
      ]
     },
     "execution_count": 27,
     "metadata": {},
     "output_type": "execute_result"
    }
   ],
   "source": [
    "setH.issubset(setI)"
   ]
  },
  {
   "cell_type": "markdown",
   "id": "4bad873b",
   "metadata": {},
   "source": [
    "# Frozen set\n",
    " - Sets are mutable. Frozen sets are immutable. [See video](https://youtu.be/fm5fFtKsipc)"
   ]
  },
  {
   "cell_type": "code",
   "execution_count": 31,
   "id": "6a54c276",
   "metadata": {
    "ExecuteTime": {
     "end_time": "2022-04-03T08:59:09.324541Z",
     "start_time": "2022-04-03T08:59:09.319289Z"
    }
   },
   "outputs": [
    {
     "data": {
      "text/plain": [
       "frozenset({5, 6, 9, 13, 90})"
      ]
     },
     "execution_count": 31,
     "metadata": {},
     "output_type": "execute_result"
    }
   ],
   "source": [
    "A = frozenset({6, 5, 9, 13, 90})\n",
    "A"
   ]
  },
  {
   "cell_type": "code",
   "execution_count": 32,
   "id": "04e57db0",
   "metadata": {
    "ExecuteTime": {
     "end_time": "2022-04-03T09:00:31.969281Z",
     "start_time": "2022-04-03T09:00:31.963938Z"
    }
   },
   "outputs": [
    {
     "data": {
      "text/plain": [
       "frozenset({1, 2, 3, 7})"
      ]
     },
     "execution_count": 32,
     "metadata": {},
     "output_type": "execute_result"
    }
   ],
   "source": [
    "B = frozenset([7, 3, 3, 2, 1])\n",
    "B"
   ]
  },
  {
   "cell_type": "code",
   "execution_count": null,
   "id": "29819be5",
   "metadata": {},
   "outputs": [],
   "source": []
  }
 ],
 "metadata": {
  "kernelspec": {
   "display_name": "Python 3 (ipykernel)",
   "language": "python",
   "name": "python3"
  },
  "language_info": {
   "codemirror_mode": {
    "name": "ipython",
    "version": 3
   },
   "file_extension": ".py",
   "mimetype": "text/x-python",
   "name": "python",
   "nbconvert_exporter": "python",
   "pygments_lexer": "ipython3",
   "version": "3.9.7"
  },
  "varInspector": {
   "cols": {
    "lenName": 16,
    "lenType": 16,
    "lenVar": 40
   },
   "kernels_config": {
    "python": {
     "delete_cmd_postfix": "",
     "delete_cmd_prefix": "del ",
     "library": "var_list.py",
     "varRefreshCmd": "print(var_dic_list())"
    },
    "r": {
     "delete_cmd_postfix": ") ",
     "delete_cmd_prefix": "rm(",
     "library": "var_list.r",
     "varRefreshCmd": "cat(var_dic_list()) "
    }
   },
   "types_to_exclude": [
    "module",
    "function",
    "builtin_function_or_method",
    "instance",
    "_Feature"
   ],
   "window_display": false
  }
 },
 "nbformat": 4,
 "nbformat_minor": 5
}
