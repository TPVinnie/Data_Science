{
 "cells": [
  {
   "cell_type": "markdown",
   "id": "020b85b1",
   "metadata": {},
   "source": [
    "# <center><FONT COLOR=RED size=36>6. CONTROL STATEMENTS IN PYTHON<FONT>"
   ]
  },
  {
   "cell_type": "markdown",
   "id": "d4a2b559",
   "metadata": {},
   "source": [
    "# if Statements"
   ]
  },
  {
   "cell_type": "markdown",
   "id": "85027f54",
   "metadata": {},
   "source": [
    "## Fun with age!"
   ]
  },
  {
   "cell_type": "code",
   "execution_count": 17,
   "id": "5dadacf2",
   "metadata": {},
   "outputs": [
    {
     "name": "stdout",
     "output_type": "stream",
     "text": [
      "Enter your age: -40\n",
      "You are a time traveller\n"
     ]
    }
   ],
   "source": [
    "\n",
    "age = int(input(\"Enter your age: \"))\n",
    "if age > 17:\n",
    "    print(\"You can vote\")\n",
    "if age <= 17:\n",
    "    if age >= 0:\n",
    "        print(\"Too young to vote\")\n",
    "    if age < 0:\n",
    "        print(\"You are a time traveller\")"
   ]
  },
  {
   "cell_type": "markdown",
   "id": "707807fa",
   "metadata": {},
   "source": [
    "# If...else Statements"
   ]
  },
  {
   "cell_type": "code",
   "execution_count": 12,
   "id": "6b9047fe",
   "metadata": {},
   "outputs": [
    {
     "name": "stdout",
     "output_type": "stream",
     "text": [
      "How many pancakes did you eat?: 1\n",
      "You are still hungry. Eat s'more!\n"
     ]
    }
   ],
   "source": [
    "# Hungry or not?\n",
    "pancakes = int(input(\"How many pancakes did you eat?: \"))\n",
    "\n",
    "if pancakes > 3:\n",
    "    print (\"Yum! You are full.\")\n",
    "else:\n",
    "    print(\"You are still hungry. Eat s'more!\")"
   ]
  },
  {
   "cell_type": "code",
   "execution_count": 13,
   "id": "7f60d925",
   "metadata": {},
   "outputs": [
    {
     "name": "stdout",
     "output_type": "stream",
     "text": [
      "How old are you?:44\n",
      "You have a long way to go. Keep learning\n"
     ]
    }
   ],
   "source": [
    "#Age and advice\n",
    "\n",
    "a = input(\"How old are you?:\")\n",
    "b = 70\n",
    "\n",
    "if int(a)>b:\n",
    "    print(\"You are an old man\")\n",
    "else:\n",
    "    print(\"You have a long way to go. Keep learning\")"
   ]
  },
  {
   "cell_type": "markdown",
   "id": "c55fbd45",
   "metadata": {},
   "source": [
    "# if... elif....else Statements"
   ]
  },
  {
   "cell_type": "code",
   "execution_count": 14,
   "id": "ddc7c5d6",
   "metadata": {},
   "outputs": [
    {
     "name": "stdout",
     "output_type": "stream",
     "text": [
      "How old are you?:44\n",
      "You should be married, with kids\n"
     ]
    }
   ],
   "source": [
    "a = input(\"How old are you?:\")\n",
    "\n",
    "\n",
    "if int(a)>=70:\n",
    "    print(\"You are an old man. Get your home in order!\")\n",
    "elif int(a)>=50:\n",
    "    print(\"Prepare for retirement\")\n",
    "elif int(a)>=40:\n",
    "    print(\"You should be married, with kids\")\n",
    "elif int(a)>=20:\n",
    "    print(\"Do the things you like. Enjoy life!\")\n",
    "    \n",
    "else:\n",
    "    print(\"You are still young. Listen to your parents' advice.\")"
   ]
  },
  {
   "cell_type": "markdown",
   "id": "ccbcbd61",
   "metadata": {},
   "source": [
    "# Loops"
   ]
  },
  {
   "cell_type": "code",
   "execution_count": null,
   "id": "8f32c7bb",
   "metadata": {},
   "outputs": [],
   "source": []
  },
  {
   "cell_type": "code",
   "execution_count": 16,
   "id": "619d78f3",
   "metadata": {},
   "outputs": [
    {
     "name": "stdout",
     "output_type": "stream",
     "text": [
      "1--END\n",
      "1--2--END\n",
      "1--2--3--END\n",
      "1--2--3--4--END\n",
      "1--2--3--4--5--END\n",
      "1--2--3--4--5--6--END\n",
      "1--2--3--4--5--6--7--END\n",
      "1--2--3--4--5--6--7--8--END\n",
      "1--2--3--4--5--6--7--8--9--END\n",
      "1--2--3--4--5--6--7--8--9--10--END\n"
     ]
    }
   ],
   "source": [
    "# Loop to print pyramid of numbers\n",
    "\n",
    "for i in range(1,11):    #this is the number of rows\n",
    "    for j in range(1,i+1):  #this gives the number of columns in each row.\n",
    "        print(j, end=\"--\")  # the end=\"\" helps to put it side-by-side.\n",
    "        \n",
    "        \n",
    "    print(\"END\")\n",
    "        \n",
    "    "
   ]
  },
  {
   "cell_type": "code",
   "execution_count": 10,
   "id": "5d22ab71",
   "metadata": {},
   "outputs": [
    {
     "name": "stdout",
     "output_type": "stream",
     "text": [
      "*\n",
      "**\n",
      "***\n",
      "****\n",
      "*****\n",
      "******\n",
      "*******\n",
      "********\n",
      "*********\n",
      "**********\n",
      "***********\n",
      "************\n",
      "*************\n",
      "**************\n",
      "***************\n",
      "****************\n",
      "*****************\n",
      "******************\n",
      "*******************\n",
      "********************\n",
      "*********************\n",
      "**********************\n",
      "***********************\n",
      "************************\n",
      "*************************\n",
      "**************************\n",
      "***************************\n",
      "****************************\n",
      "*****************************\n",
      "******************************\n",
      "*******************************\n",
      "********************************\n",
      "*********************************\n",
      "**********************************\n",
      "***********************************\n",
      "************************************\n",
      "*************************************\n",
      "**************************************\n",
      "***************************************\n",
      "****************************************\n",
      "*****************************************\n",
      "******************************************\n",
      "*******************************************\n",
      "********************************************\n",
      "*********************************************\n",
      "**********************************************\n",
      "***********************************************\n",
      "************************************************\n",
      "*************************************************\n",
      "**************************************************\n"
     ]
    }
   ],
   "source": [
    "# Loop to print pyramid of stars\n",
    "\n",
    "for i in range(1,51):    #this is the number of rows\n",
    "    for j in range(1,i+1):  #this gives the number of columns in each row.\n",
    "        print(\"*\", end=\"\")  # the end=\"\" helps to put it side-by-side.\n",
    "        \n",
    "        \n",
    "    print()"
   ]
  },
  {
   "cell_type": "markdown",
   "id": "4a6a5d7b",
   "metadata": {},
   "source": [
    "# While statements"
   ]
  },
  {
   "cell_type": "code",
   "execution_count": null,
   "id": "1941f1da",
   "metadata": {},
   "outputs": [],
   "source": []
  },
  {
   "cell_type": "markdown",
   "id": "feb9fdbb",
   "metadata": {},
   "source": [
    "## Guessing Game"
   ]
  },
  {
   "cell_type": "code",
   "execution_count": 2,
   "id": "acbea5cc",
   "metadata": {
    "ExecuteTime": {
     "end_time": "2022-04-03T05:06:24.189357Z",
     "start_time": "2022-04-03T05:05:26.253088Z"
    }
   },
   "outputs": [
    {
     "name": "stdout",
     "output_type": "stream",
     "text": [
      "I'm thinking of a secret number between 1 and 100\n",
      "What is your guess? 50\n",
      "Sorry, your guess is too high.\n",
      "What is your guess? 75\n",
      "Sorry, your guess is too high.\n",
      "What is your guess? 25\n",
      "Sorry, your guess is too low.\n",
      "What is your guess? 32\n",
      "Sorry, your guess is too high.\n",
      "What is your guess? 27\n",
      "DANG, YOU GOT IT!\n"
     ]
    }
   ],
   "source": [
    "import random\n",
    "secretNumber = random.randint(1, 100)\n",
    "print(\"I'm thinking of a secret number between 1 and 100\")\n",
    "while True:\n",
    "    guess = int(input(\"What is your guess? \"))\n",
    "    if (guess == secretNumber):\n",
    "        break\n",
    "    if (guess > secretNumber):\n",
    "        print(\"Sorry, your guess is too high.\")\n",
    "    if (guess < secretNumber):\n",
    "        print(\"Sorry, your guess is too low.\")\n",
    "print(\"Dang, you got it!\".upper())"
   ]
  },
  {
   "cell_type": "markdown",
   "id": "2016552a",
   "metadata": {},
   "source": [
    "### Five guesses or lose"
   ]
  },
  {
   "cell_type": "code",
   "execution_count": 70,
   "id": "203c0a0d",
   "metadata": {},
   "outputs": [
    {
     "name": "stdout",
     "output_type": "stream",
     "text": [
      "I'm thinking of a secret number between 1 and 100...You have up to 5 guesses to win!\n",
      "What is your guess? 89\n",
      "Sorry, your guess is TOO HIGH. You have 4 more guesses\n",
      "What is your guess? 67\n",
      "Sorry, your guess is Too Low. You have 3 more guesses\n",
      "What is your guess? 76\n",
      "Sorry, your guess is Too Low. You have 2 more guesses\n",
      "What is your guess? 86\n",
      "Sorry, your guess is TOO HIGH. You have 1 more guesses\n",
      "What is your guess? 45\n",
      "Sorry, your guess is Too Low. You have 0 more guesses\n",
      "SORRY, YOU LOST\n"
     ]
    }
   ],
   "source": [
    "import random\n",
    "secretNumber = random.randint(1, 100)\n",
    "print(\"I'm thinking of a secret number between 1 and 100...You have up to 5 guesses to win!\")\n",
    "\n",
    "for n in range(5):\n",
    "        guess = int(input(\"What is your guess? \"))\n",
    "        \n",
    "        if (guess == secretNumber):\n",
    "            print(\"Dang, you got it!\".upper())\n",
    "            break\n",
    "            \n",
    "        elif (guess > secretNumber):\n",
    "            guessCount = 4-n\n",
    "            print(f\"Sorry, your guess is TOO HIGH. You have {guessCount} more guesses\")\n",
    "            \n",
    "        elif (guess < secretNumber):\n",
    "            guessCount = 4-n\n",
    "            print(f\"Sorry, your guess is Too Low. You have {guessCount} more guesses\")\n",
    "            \n",
    "print(\"Sorry, you lost\".upper())\n",
    "        "
   ]
  },
  {
   "cell_type": "markdown",
   "id": "917fce39",
   "metadata": {},
   "source": [
    "#### Prime numbers"
   ]
  },
  {
   "cell_type": "code",
   "execution_count": 18,
   "id": "9cbb1563",
   "metadata": {},
   "outputs": [
    {
     "name": "stdout",
     "output_type": "stream",
     "text": [
      "Enter Lower Bound: 40\n",
      "Enter Upper Bound: 200\n",
      "The prime numbers between 40 and 200 are: \n",
      "41\n",
      "43\n",
      "47\n",
      "53\n",
      "59\n",
      "61\n",
      "67\n",
      "71\n",
      "73\n",
      "79\n",
      "83\n",
      "89\n",
      "97\n",
      "101\n",
      "103\n",
      "107\n",
      "109\n",
      "113\n",
      "127\n",
      "131\n",
      "137\n",
      "139\n",
      "149\n",
      "151\n",
      "157\n",
      "163\n",
      "167\n",
      "173\n",
      "179\n",
      "181\n",
      "191\n",
      "193\n",
      "197\n",
      "199\n"
     ]
    }
   ],
   "source": [
    "# this program prints all prime numbers in a given range\n",
    "\n",
    "LB = int(input(\"Enter Lower Bound: \"))\n",
    "UB = int(input(\"Enter Upper Bound: \"))\n",
    "\n",
    "\n",
    "print(\"The prime numbers between {} and {} are: \".format(LB,UB))\n",
    "for i in range(LB,UB + 1):\n",
    "    for j in range(2,i):\n",
    "        if (i%j) ==0:\n",
    "            break\n",
    "    else:\n",
    "        print(i)"
   ]
  },
  {
   "cell_type": "markdown",
   "id": "3a4a5aed",
   "metadata": {},
   "source": []
  },
  {
   "cell_type": "code",
   "execution_count": 90,
   "id": "5c0cd515",
   "metadata": {},
   "outputs": [],
   "source": []
  },
  {
   "cell_type": "code",
   "execution_count": 92,
   "id": "c05872d9",
   "metadata": {},
   "outputs": [
    {
     "name": "stdout",
     "output_type": "stream",
     "text": [
      "36\n"
     ]
    }
   ],
   "source": [
    "print(sumNum(8))"
   ]
  },
  {
   "cell_type": "code",
   "execution_count": 95,
   "id": "200482b9",
   "metadata": {},
   "outputs": [
    {
     "data": {
      "text/plain": [
       "500500"
      ]
     },
     "execution_count": 95,
     "metadata": {},
     "output_type": "execute_result"
    }
   ],
   "source": [
    "sumNum(1000)"
   ]
  },
  {
   "cell_type": "code",
   "execution_count": 93,
   "id": "12497bd5",
   "metadata": {},
   "outputs": [],
   "source": [
    "def numb(n):\n",
    "    print(f\"{n} is a number\")"
   ]
  },
  {
   "cell_type": "code",
   "execution_count": 94,
   "id": "d4d8fa43",
   "metadata": {},
   "outputs": [
    {
     "name": "stdout",
     "output_type": "stream",
     "text": [
      "5 is a number\n"
     ]
    }
   ],
   "source": [
    "numb(5)"
   ]
  },
  {
   "cell_type": "code",
   "execution_count": null,
   "id": "db620e3a",
   "metadata": {},
   "outputs": [],
   "source": []
  }
 ],
 "metadata": {
  "hide_input": false,
  "kernelspec": {
   "display_name": "Python 3 (ipykernel)",
   "language": "python",
   "name": "python3"
  },
  "language_info": {
   "codemirror_mode": {
    "name": "ipython",
    "version": 3
   },
   "file_extension": ".py",
   "mimetype": "text/x-python",
   "name": "python",
   "nbconvert_exporter": "python",
   "pygments_lexer": "ipython3",
   "version": "3.9.7"
  },
  "varInspector": {
   "cols": {
    "lenName": 16,
    "lenType": 16,
    "lenVar": 40
   },
   "kernels_config": {
    "python": {
     "delete_cmd_postfix": "",
     "delete_cmd_prefix": "del ",
     "library": "var_list.py",
     "varRefreshCmd": "print(var_dic_list())"
    },
    "r": {
     "delete_cmd_postfix": ") ",
     "delete_cmd_prefix": "rm(",
     "library": "var_list.r",
     "varRefreshCmd": "cat(var_dic_list()) "
    }
   },
   "types_to_exclude": [
    "module",
    "function",
    "builtin_function_or_method",
    "instance",
    "_Feature"
   ],
   "window_display": false
  }
 },
 "nbformat": 4,
 "nbformat_minor": 5
}
