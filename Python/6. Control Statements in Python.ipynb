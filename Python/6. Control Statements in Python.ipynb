{
 "cells": [
  {
   "cell_type": "markdown",
   "id": "020b85b1",
   "metadata": {},
   "source": [
    "# <center><FONT COLOR=RED size=36>6. CONTROL STATEMENTS IN PYTHON<FONT>"
   ]
  },
  {
   "cell_type": "markdown",
   "id": "d4a2b559",
   "metadata": {},
   "source": [
    "# if Statements"
   ]
  },
  {
   "cell_type": "markdown",
   "id": "85027f54",
   "metadata": {},
   "source": [
    "## Fun with age!"
   ]
  },
  {
   "cell_type": "code",
   "execution_count": 17,
   "id": "5dadacf2",
   "metadata": {},
   "outputs": [
    {
     "name": "stdout",
     "output_type": "stream",
     "text": [
      "Enter your age: -40\n",
      "You are a time traveller\n"
     ]
    }
   ],
   "source": [
    "\n",
    "age = int(input(\"Enter your age: \"))\n",
    "if age > 17:\n",
    "    print(\"You can vote\")\n",
    "if age <= 17:\n",
    "    if age >= 0:\n",
    "        print(\"Too young to vote\")\n",
    "    if age < 0:\n",
    "        print(\"You are a time traveller\")"
   ]
  },
  {
   "cell_type": "markdown",
   "id": "707807fa",
   "metadata": {},
   "source": [
    "# If...else Statements"
   ]
  },
  {
   "cell_type": "code",
   "execution_count": 12,
   "id": "6b9047fe",
   "metadata": {},
   "outputs": [
    {
     "name": "stdout",
     "output_type": "stream",
     "text": [
      "How many pancakes did you eat?: 1\n",
      "You are still hungry. Eat s'more!\n"
     ]
    }
   ],
   "source": [
    "# Hungry or not?\n",
    "pancakes = int(input(\"How many pancakes did you eat?: \"))\n",
    "\n",
    "if pancakes > 3:\n",
    "    print (\"Yum! You are full.\")\n",
    "else:\n",
    "    print(\"You are still hungry. Eat s'more!\")"
   ]
  },
  {
   "cell_type": "code",
   "execution_count": 13,
   "id": "7f60d925",
   "metadata": {},
   "outputs": [
    {
     "name": "stdout",
     "output_type": "stream",
     "text": [
      "How old are you?:44\n",
      "You have a long way to go. Keep learning\n"
     ]
    }
   ],
   "source": [
    "#Age and advice\n",
    "\n",
    "a = input(\"How old are you?:\")\n",
    "b = 70\n",
    "\n",
    "if int(a)>b:\n",
    "    print(\"You are an old man\")\n",
    "else:\n",
    "    print(\"You have a long way to go. Keep learning\")"
   ]
  },
  {
   "cell_type": "markdown",
   "id": "c55fbd45",
   "metadata": {},
   "source": [
    "# if... elif....else Statements"
   ]
  },
  {
   "cell_type": "code",
   "execution_count": 14,
   "id": "ddc7c5d6",
   "metadata": {},
   "outputs": [
    {
     "name": "stdout",
     "output_type": "stream",
     "text": [
      "How old are you?:44\n",
      "You should be married, with kids\n"
     ]
    }
   ],
   "source": [
    "a = input(\"How old are you?:\")\n",
    "\n",
    "\n",
    "if int(a)>=70:\n",
    "    print(\"You are an old man. Get your home in order!\")\n",
    "elif int(a)>=50:\n",
    "    print(\"Prepare for retirement\")\n",
    "elif int(a)>=40:\n",
    "    print(\"You should be married, with kids\")\n",
    "elif int(a)>=20:\n",
    "    print(\"Do the things you like. Enjoy life!\")\n",
    "    \n",
    "else:\n",
    "    print(\"You are still young. Listen to your parents' advice.\")"
   ]
  },
  {
   "cell_type": "markdown",
   "id": "ccbcbd61",
   "metadata": {},
   "source": [
    "# Loops"
   ]
  },
  {
   "cell_type": "code",
   "execution_count": null,
   "id": "8f32c7bb",
   "metadata": {},
   "outputs": [],
   "source": []
  },
  {
   "cell_type": "markdown",
   "id": "4a6a5d7b",
   "metadata": {},
   "source": [
    "# While statements"
   ]
  },
  {
   "cell_type": "markdown",
   "id": "feb9fdbb",
   "metadata": {},
   "source": [
    "## Guessing Game"
   ]
  },
  {
   "cell_type": "code",
   "execution_count": 24,
   "id": "acbea5cc",
   "metadata": {},
   "outputs": [
    {
     "name": "stdout",
     "output_type": "stream",
     "text": [
      "I'm thinking of a secret number between 1 and 100...You have up to 5 guesses to win!\n",
      "What is your guess? 50\n",
      "Sorry, your guess is too high.\n",
      "What is your guess? 26\n",
      "Sorry, your guess is too low.\n",
      "What is your guess? 35\n",
      "Sorry, your guess is too high.\n",
      "What is your guess? 27\n",
      "DANG, YOU GOT IT!\n"
     ]
    }
   ],
   "source": [
    "import random\n",
    "secretNumber = random.randint(1, 100)\n",
    "print(\"I'm thinking of a secret number between 1 and 100...You have up to 5 guesses to win!\")\n",
    "while True:\n",
    "    guess = int(input(\"What is your guess? \"))\n",
    "    if (guess == secretNumber):\n",
    "        break\n",
    "    if (guess > secretNumber):\n",
    "        print(\"Sorry, your guess is too high.\")\n",
    "    if (guess < secretNumber):\n",
    "        print(\"Sorry, your guess is too low.\")\n",
    "print(\"Dang, you got it!\".upper())"
   ]
  },
  {
   "cell_type": "code",
   "execution_count": null,
   "id": "c86b9b36",
   "metadata": {},
   "outputs": [],
   "source": []
  }
 ],
 "metadata": {
  "kernelspec": {
   "display_name": "Python 3 (ipykernel)",
   "language": "python",
   "name": "python3"
  },
  "language_info": {
   "codemirror_mode": {
    "name": "ipython",
    "version": 3
   },
   "file_extension": ".py",
   "mimetype": "text/x-python",
   "name": "python",
   "nbconvert_exporter": "python",
   "pygments_lexer": "ipython3",
   "version": "3.9.7"
  }
 },
 "nbformat": 4,
 "nbformat_minor": 5
}
