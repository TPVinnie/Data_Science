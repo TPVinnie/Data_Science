{
 "cells": [
  {
   "cell_type": "markdown",
   "id": "0f685311",
   "metadata": {},
   "source": [
    "# <CENTER><font color=red size=36>3. DATA TYPES IN PYTHON<font><CENTER>"
   ]
  },
  {
   "cell_type": "code",
   "execution_count": null,
   "id": "8d2237ec",
   "metadata": {},
   "outputs": [],
   "source": []
  }
 ],
 "metadata": {
  "kernelspec": {
   "display_name": "Python 3 (ipykernel)",
   "language": "python",
   "name": "python3"
  },
  "language_info": {
   "codemirror_mode": {
    "name": "ipython",
    "version": 3
   },
   "file_extension": ".py",
   "mimetype": "text/x-python",
   "name": "python",
   "nbconvert_exporter": "python",
   "pygments_lexer": "ipython3",
   "version": "3.9.7"
  }
 },
 "nbformat": 4,
 "nbformat_minor": 5
}
