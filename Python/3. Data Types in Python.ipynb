{
 "cells": [
  {
   "cell_type": "markdown",
   "id": "0f685311",
   "metadata": {},
   "source": [
    "# <CENTER><font color=red size=36>3. DATA TYPES IN PYTHON<font><CENTER>"
   ]
  },
  {
   "cell_type": "markdown",
   "id": "dc8f5b64",
   "metadata": {},
   "source": [
    "# Logical Operators \"AND\" and \"OR."
   ]
  },
  {
   "cell_type": "code",
   "execution_count": 1,
   "id": "5e112350",
   "metadata": {},
   "outputs": [
    {
     "name": "stdout",
     "output_type": "stream",
     "text": [
      "600\n"
     ]
    }
   ],
   "source": [
    "x=200\n",
    "y=600\n",
    "print(x and y)"
   ]
  },
  {
   "cell_type": "code",
   "execution_count": 2,
   "id": "01fdab3b",
   "metadata": {},
   "outputs": [
    {
     "name": "stdout",
     "output_type": "stream",
     "text": [
      "200\n"
     ]
    }
   ],
   "source": [
    "x=200\n",
    "y=600\n",
    "print(x or y)"
   ]
  },
  {
   "cell_type": "markdown",
   "id": "fd5067a1",
   "metadata": {},
   "source": [
    "https://youtu.be/K47w0cpRLt4\n",
    "\n",
    "https://youtu.be/9w992l9TFIs"
   ]
  },
  {
   "cell_type": "code",
   "execution_count": null,
   "id": "8d2237ec",
   "metadata": {},
   "outputs": [],
   "source": []
  }
 ],
 "metadata": {
  "kernelspec": {
   "display_name": "Python 3 (ipykernel)",
   "language": "python",
   "name": "python3"
  },
  "language_info": {
   "codemirror_mode": {
    "name": "ipython",
    "version": 3
   },
   "file_extension": ".py",
   "mimetype": "text/x-python",
   "name": "python",
   "nbconvert_exporter": "python",
   "pygments_lexer": "ipython3",
   "version": "3.9.7"
  }
 },
 "nbformat": 4,
 "nbformat_minor": 5
}
