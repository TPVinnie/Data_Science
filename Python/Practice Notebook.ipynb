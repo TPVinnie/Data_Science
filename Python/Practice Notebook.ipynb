{
 "cells": [
  {
   "cell_type": "markdown",
   "id": "c1bcaf34",
   "metadata": {},
   "source": [
    "# <center><FONT COLOR=RED size=36>PRACTICE NOTEBOOK<FONT>"
   ]
  },
  {
   "cell_type": "code",
   "execution_count": 218,
   "id": "d86ca421",
   "metadata": {},
   "outputs": [
    {
     "data": {
      "text/plain": [
       "18.5"
      ]
     },
     "execution_count": 218,
     "metadata": {},
     "output_type": "execute_result"
    }
   ],
   "source": [
    "a = 5\n",
    "b = 7\n",
    "c = a + b\n",
    "d = (a**2 + b**2)/4\n",
    "\n",
    "c\n",
    "d"
   ]
  },
  {
   "cell_type": "code",
   "execution_count": 220,
   "id": "0b4b2996",
   "metadata": {},
   "outputs": [
    {
     "name": "stdout",
     "output_type": "stream",
     "text": [
      "sys.version_info(major=3, minor=9, micro=7, releaselevel='final', serial=0)\n"
     ]
    }
   ],
   "source": [
    "import sys\n",
    "print(sys.version_info)"
   ]
  },
  {
   "cell_type": "code",
   "execution_count": 1,
   "id": "bc80c5e0",
   "metadata": {},
   "outputs": [
    {
     "name": "stdout",
     "output_type": "stream",
     "text": [
      "25.132741228718345\n"
     ]
    }
   ],
   "source": [
    "'''Write a function volume_cylinder that consumes the diameter in metres \n",
    " and produces the volume of a cylinder of length 2 metres. \n",
    "A function area_circle has been loaded for your convenience.\n",
    "def area_circle(radius):\n",
    "    return math.pi * radius ** 2'''\n",
    "\n",
    "import math\n",
    "\n",
    "def volume_cylinder(diameter,radius=2):\n",
    "  return math.pi * radius * ((diameter / 2) ** 2)\n",
    "\n",
    "print(volume_cylinder(4))"
   ]
  },
  {
   "cell_type": "code",
   "execution_count": 17,
   "id": "fa9b1d26",
   "metadata": {},
   "outputs": [
    {
     "name": "stdout",
     "output_type": "stream",
     "text": [
      "Enter your surname:  Techo\n",
      "Hi, Techo. Nice to meet you.\n"
     ]
    }
   ],
   "source": [
    "surname = input(\"Enter your surname:  \")\n",
    "print(f\"Hi, {name}. Nice to meet you.\")"
   ]
  },
  {
   "cell_type": "code",
   "execution_count": 19,
   "id": "4938c36d",
   "metadata": {},
   "outputs": [
    {
     "name": "stdout",
     "output_type": "stream",
     "text": [
      "TechoTechoTechoTechoTechoTechoTechoTechoTechoTecho\n"
     ]
    }
   ],
   "source": [
    "surname_10_times = surname*10\n",
    "print(name_10_times)"
   ]
  },
  {
   "cell_type": "code",
   "execution_count": 27,
   "id": "f3c6f095",
   "metadata": {},
   "outputs": [
    {
     "name": "stdout",
     "output_type": "stream",
     "text": [
      "Your surname ten times is Techo Techo Techo Techo Techo Techo \n",
      "Techo Techo Techo Techo.\n"
     ]
    }
   ],
   "source": [
    "print(f\"\"\"Your surname ten times is {surname} {surname} {surname} {surname} {surname} {surname} \n",
    "{surname} {surname} {surname} {surname}.\"\"\")\n"
   ]
  },
  {
   "cell_type": "code",
   "execution_count": 31,
   "id": "49a8c2a4",
   "metadata": {},
   "outputs": [
    {
     "data": {
      "application/json": {
       "cell": {
        "!": "OSMagics",
        "HTML": "Other",
        "SVG": "Other",
        "bash": "Other",
        "capture": "ExecutionMagics",
        "debug": "ExecutionMagics",
        "file": "Other",
        "html": "DisplayMagics",
        "javascript": "DisplayMagics",
        "js": "DisplayMagics",
        "latex": "DisplayMagics",
        "markdown": "DisplayMagics",
        "perl": "Other",
        "prun": "ExecutionMagics",
        "pypy": "Other",
        "python": "Other",
        "python2": "Other",
        "python3": "Other",
        "ruby": "Other",
        "script": "ScriptMagics",
        "sh": "Other",
        "svg": "DisplayMagics",
        "sx": "OSMagics",
        "system": "OSMagics",
        "time": "ExecutionMagics",
        "timeit": "ExecutionMagics",
        "writefile": "OSMagics"
       },
       "line": {
        "alias": "OSMagics",
        "alias_magic": "BasicMagics",
        "autoawait": "AsyncMagics",
        "autocall": "AutoMagics",
        "automagic": "AutoMagics",
        "autosave": "KernelMagics",
        "bookmark": "OSMagics",
        "cat": "Other",
        "cd": "OSMagics",
        "clear": "KernelMagics",
        "colors": "BasicMagics",
        "conda": "PackagingMagics",
        "config": "ConfigMagics",
        "connect_info": "KernelMagics",
        "cp": "Other",
        "debug": "ExecutionMagics",
        "dhist": "OSMagics",
        "dirs": "OSMagics",
        "doctest_mode": "BasicMagics",
        "ed": "Other",
        "edit": "KernelMagics",
        "env": "OSMagics",
        "gui": "BasicMagics",
        "hist": "Other",
        "history": "HistoryMagics",
        "killbgscripts": "ScriptMagics",
        "ldir": "Other",
        "less": "KernelMagics",
        "lf": "Other",
        "lk": "Other",
        "ll": "Other",
        "load": "CodeMagics",
        "load_ext": "ExtensionMagics",
        "loadpy": "CodeMagics",
        "logoff": "LoggingMagics",
        "logon": "LoggingMagics",
        "logstart": "LoggingMagics",
        "logstate": "LoggingMagics",
        "logstop": "LoggingMagics",
        "ls": "Other",
        "lsmagic": "BasicMagics",
        "lx": "Other",
        "macro": "ExecutionMagics",
        "magic": "BasicMagics",
        "man": "KernelMagics",
        "matplotlib": "PylabMagics",
        "mkdir": "Other",
        "more": "KernelMagics",
        "mv": "Other",
        "notebook": "BasicMagics",
        "page": "BasicMagics",
        "pastebin": "CodeMagics",
        "pdb": "ExecutionMagics",
        "pdef": "NamespaceMagics",
        "pdoc": "NamespaceMagics",
        "pfile": "NamespaceMagics",
        "pinfo": "NamespaceMagics",
        "pinfo2": "NamespaceMagics",
        "pip": "PackagingMagics",
        "popd": "OSMagics",
        "pprint": "BasicMagics",
        "precision": "BasicMagics",
        "prun": "ExecutionMagics",
        "psearch": "NamespaceMagics",
        "psource": "NamespaceMagics",
        "pushd": "OSMagics",
        "pwd": "OSMagics",
        "pycat": "OSMagics",
        "pylab": "PylabMagics",
        "qtconsole": "KernelMagics",
        "quickref": "BasicMagics",
        "recall": "HistoryMagics",
        "rehashx": "OSMagics",
        "reload_ext": "ExtensionMagics",
        "rep": "Other",
        "rerun": "HistoryMagics",
        "reset": "NamespaceMagics",
        "reset_selective": "NamespaceMagics",
        "rm": "Other",
        "rmdir": "Other",
        "run": "ExecutionMagics",
        "save": "CodeMagics",
        "sc": "OSMagics",
        "set_env": "OSMagics",
        "store": "StoreMagics",
        "sx": "OSMagics",
        "system": "OSMagics",
        "tb": "ExecutionMagics",
        "time": "ExecutionMagics",
        "timeit": "ExecutionMagics",
        "unalias": "OSMagics",
        "unload_ext": "ExtensionMagics",
        "who": "NamespaceMagics",
        "who_ls": "NamespaceMagics",
        "whos": "NamespaceMagics",
        "xdel": "NamespaceMagics",
        "xmode": "BasicMagics"
       }
      },
      "text/plain": [
       "Available line magics:\n",
       "%alias  %alias_magic  %autoawait  %autocall  %automagic  %autosave  %bookmark  %cat  %cd  %clear  %colors  %conda  %config  %connect_info  %cp  %debug  %dhist  %dirs  %doctest_mode  %ed  %edit  %env  %gui  %hist  %history  %killbgscripts  %ldir  %less  %lf  %lk  %ll  %load  %load_ext  %loadpy  %logoff  %logon  %logstart  %logstate  %logstop  %ls  %lsmagic  %lx  %macro  %magic  %man  %matplotlib  %mkdir  %more  %mv  %notebook  %page  %pastebin  %pdb  %pdef  %pdoc  %pfile  %pinfo  %pinfo2  %pip  %popd  %pprint  %precision  %prun  %psearch  %psource  %pushd  %pwd  %pycat  %pylab  %qtconsole  %quickref  %recall  %rehashx  %reload_ext  %rep  %rerun  %reset  %reset_selective  %rm  %rmdir  %run  %save  %sc  %set_env  %store  %sx  %system  %tb  %time  %timeit  %unalias  %unload_ext  %who  %who_ls  %whos  %xdel  %xmode\n",
       "\n",
       "Available cell magics:\n",
       "%%!  %%HTML  %%SVG  %%bash  %%capture  %%debug  %%file  %%html  %%javascript  %%js  %%latex  %%markdown  %%perl  %%prun  %%pypy  %%python  %%python2  %%python3  %%ruby  %%script  %%sh  %%svg  %%sx  %%system  %%time  %%timeit  %%writefile\n",
       "\n",
       "Automagic is ON, % prefix IS NOT needed for line magics."
      ]
     },
     "execution_count": 31,
     "metadata": {},
     "output_type": "execute_result"
    }
   ],
   "source": [
    "%lsmagic"
   ]
  },
  {
   "cell_type": "code",
   "execution_count": 32,
   "id": "6b5701c5",
   "metadata": {},
   "outputs": [
    {
     "name": "stdout",
     "output_type": "stream",
     "text": [
      "total 32\r\n",
      "drwxr-xr-x  6 Vincent  staff   192 Mar 16 20:43 \u001b[34m.\u001b[m\u001b[m/\r\n",
      "drwxr-xr-x  7 Vincent  staff   224 Mar  8 04:23 \u001b[34m..\u001b[m\u001b[m/\r\n",
      "-rw-r--r--@ 1 Vincent  staff  6148 Mar  8 19:22 .DS_Store\r\n",
      "drwxr-xr-x  3 Vincent  staff    96 Mar 16 19:26 \u001b[34m.ipynb_checkpoints\u001b[m\u001b[m/\r\n",
      "-rw-r--r--  1 Vincent  staff  3093 Mar 16 20:43 Practice Notebook.ipynb\r\n",
      "-rw-r--r--@ 1 Vincent  staff    41 Mar  8 04:45 Trial_1.py\r\n"
     ]
    }
   ],
   "source": [
    "ls -la"
   ]
  },
  {
   "cell_type": "code",
   "execution_count": 35,
   "id": "6d3d0ee8",
   "metadata": {},
   "outputs": [
    {
     "name": "stdout",
     "output_type": "stream",
     "text": [
      "Collecting jupyterthemes\n",
      "  Downloading jupyterthemes-0.20.0-py2.py3-none-any.whl (7.0 MB)\n",
      "\u001b[K     |████████████████████████████████| 7.0 MB 224 kB/s eta 0:00:01\n",
      "\u001b[?25hRequirement already satisfied: matplotlib>=1.4.3 in /Users/Vincent/opt/anaconda3/lib/python3.9/site-packages (from jupyterthemes) (3.4.3)\n",
      "Requirement already satisfied: jupyter-core in /Users/Vincent/opt/anaconda3/lib/python3.9/site-packages (from jupyterthemes) (4.8.1)\n",
      "Requirement already satisfied: ipython>=5.4.1 in /Users/Vincent/opt/anaconda3/lib/python3.9/site-packages (from jupyterthemes) (7.29.0)\n",
      "Requirement already satisfied: notebook>=5.6.0 in /Users/Vincent/opt/anaconda3/lib/python3.9/site-packages (from jupyterthemes) (6.4.5)\n",
      "Collecting lesscpy>=0.11.2\n",
      "  Downloading lesscpy-0.15.0-py2.py3-none-any.whl (46 kB)\n",
      "\u001b[K     |████████████████████████████████| 46 kB 6.1 MB/s eta 0:00:011\n",
      "\u001b[?25hRequirement already satisfied: pickleshare in /Users/Vincent/opt/anaconda3/lib/python3.9/site-packages (from ipython>=5.4.1->jupyterthemes) (0.7.5)\n",
      "Requirement already satisfied: matplotlib-inline in /Users/Vincent/opt/anaconda3/lib/python3.9/site-packages (from ipython>=5.4.1->jupyterthemes) (0.1.2)\n",
      "Requirement already satisfied: setuptools>=18.5 in /Users/Vincent/opt/anaconda3/lib/python3.9/site-packages (from ipython>=5.4.1->jupyterthemes) (58.0.4)\n",
      "Requirement already satisfied: backcall in /Users/Vincent/opt/anaconda3/lib/python3.9/site-packages (from ipython>=5.4.1->jupyterthemes) (0.2.0)\n",
      "Requirement already satisfied: pexpect>4.3 in /Users/Vincent/opt/anaconda3/lib/python3.9/site-packages (from ipython>=5.4.1->jupyterthemes) (4.8.0)\n",
      "Requirement already satisfied: appnope in /Users/Vincent/opt/anaconda3/lib/python3.9/site-packages (from ipython>=5.4.1->jupyterthemes) (0.1.2)\n",
      "Requirement already satisfied: pygments in /Users/Vincent/opt/anaconda3/lib/python3.9/site-packages (from ipython>=5.4.1->jupyterthemes) (2.10.0)\n",
      "Requirement already satisfied: prompt-toolkit!=3.0.0,!=3.0.1,<3.1.0,>=2.0.0 in /Users/Vincent/opt/anaconda3/lib/python3.9/site-packages (from ipython>=5.4.1->jupyterthemes) (3.0.20)\n",
      "Requirement already satisfied: traitlets>=4.2 in /Users/Vincent/opt/anaconda3/lib/python3.9/site-packages (from ipython>=5.4.1->jupyterthemes) (5.1.0)\n",
      "Requirement already satisfied: decorator in /Users/Vincent/opt/anaconda3/lib/python3.9/site-packages (from ipython>=5.4.1->jupyterthemes) (5.1.0)\n",
      "Requirement already satisfied: jedi>=0.16 in /Users/Vincent/opt/anaconda3/lib/python3.9/site-packages (from ipython>=5.4.1->jupyterthemes) (0.18.0)\n",
      "Requirement already satisfied: parso<0.9.0,>=0.8.0 in /Users/Vincent/opt/anaconda3/lib/python3.9/site-packages (from jedi>=0.16->ipython>=5.4.1->jupyterthemes) (0.8.2)\n",
      "Requirement already satisfied: ply in /Users/Vincent/opt/anaconda3/lib/python3.9/site-packages (from lesscpy>=0.11.2->jupyterthemes) (3.11)\n",
      "Requirement already satisfied: six in /Users/Vincent/opt/anaconda3/lib/python3.9/site-packages (from lesscpy>=0.11.2->jupyterthemes) (1.16.0)\n",
      "Requirement already satisfied: pillow>=6.2.0 in /Users/Vincent/opt/anaconda3/lib/python3.9/site-packages (from matplotlib>=1.4.3->jupyterthemes) (8.4.0)\n",
      "Requirement already satisfied: numpy>=1.16 in /Users/Vincent/opt/anaconda3/lib/python3.9/site-packages (from matplotlib>=1.4.3->jupyterthemes) (1.20.3)\n",
      "Requirement already satisfied: kiwisolver>=1.0.1 in /Users/Vincent/opt/anaconda3/lib/python3.9/site-packages (from matplotlib>=1.4.3->jupyterthemes) (1.3.1)\n",
      "Requirement already satisfied: pyparsing>=2.2.1 in /Users/Vincent/opt/anaconda3/lib/python3.9/site-packages (from matplotlib>=1.4.3->jupyterthemes) (3.0.4)\n",
      "Requirement already satisfied: cycler>=0.10 in /Users/Vincent/opt/anaconda3/lib/python3.9/site-packages (from matplotlib>=1.4.3->jupyterthemes) (0.10.0)\n",
      "Requirement already satisfied: python-dateutil>=2.7 in /Users/Vincent/opt/anaconda3/lib/python3.9/site-packages (from matplotlib>=1.4.3->jupyterthemes) (2.8.2)\n",
      "Requirement already satisfied: ipykernel in /Users/Vincent/opt/anaconda3/lib/python3.9/site-packages (from notebook>=5.6.0->jupyterthemes) (6.4.1)\n",
      "Requirement already satisfied: jupyter-client>=5.3.4 in /Users/Vincent/opt/anaconda3/lib/python3.9/site-packages (from notebook>=5.6.0->jupyterthemes) (6.1.12)\n",
      "Requirement already satisfied: terminado>=0.8.3 in /Users/Vincent/opt/anaconda3/lib/python3.9/site-packages (from notebook>=5.6.0->jupyterthemes) (0.9.4)\n",
      "Requirement already satisfied: nbformat in /Users/Vincent/opt/anaconda3/lib/python3.9/site-packages (from notebook>=5.6.0->jupyterthemes) (5.1.3)\n",
      "Requirement already satisfied: argon2-cffi in /Users/Vincent/opt/anaconda3/lib/python3.9/site-packages (from notebook>=5.6.0->jupyterthemes) (20.1.0)\n",
      "Requirement already satisfied: nbconvert in /Users/Vincent/opt/anaconda3/lib/python3.9/site-packages (from notebook>=5.6.0->jupyterthemes) (6.1.0)\n",
      "Requirement already satisfied: Send2Trash>=1.5.0 in /Users/Vincent/opt/anaconda3/lib/python3.9/site-packages (from notebook>=5.6.0->jupyterthemes) (1.8.0)\n",
      "Requirement already satisfied: prometheus-client in /Users/Vincent/opt/anaconda3/lib/python3.9/site-packages (from notebook>=5.6.0->jupyterthemes) (0.11.0)\n",
      "Requirement already satisfied: pyzmq>=17 in /Users/Vincent/opt/anaconda3/lib/python3.9/site-packages (from notebook>=5.6.0->jupyterthemes) (22.2.1)\n",
      "Requirement already satisfied: ipython-genutils in /Users/Vincent/opt/anaconda3/lib/python3.9/site-packages (from notebook>=5.6.0->jupyterthemes) (0.2.0)\n",
      "Requirement already satisfied: tornado>=6.1 in /Users/Vincent/opt/anaconda3/lib/python3.9/site-packages (from notebook>=5.6.0->jupyterthemes) (6.1)\n",
      "Requirement already satisfied: jinja2 in /Users/Vincent/opt/anaconda3/lib/python3.9/site-packages (from notebook>=5.6.0->jupyterthemes) (2.11.3)\n",
      "Requirement already satisfied: ptyprocess>=0.5 in /Users/Vincent/opt/anaconda3/lib/python3.9/site-packages (from pexpect>4.3->ipython>=5.4.1->jupyterthemes) (0.7.0)\n",
      "Requirement already satisfied: wcwidth in /Users/Vincent/opt/anaconda3/lib/python3.9/site-packages (from prompt-toolkit!=3.0.0,!=3.0.1,<3.1.0,>=2.0.0->ipython>=5.4.1->jupyterthemes) (0.2.5)\n",
      "Requirement already satisfied: cffi>=1.0.0 in /Users/Vincent/opt/anaconda3/lib/python3.9/site-packages (from argon2-cffi->notebook>=5.6.0->jupyterthemes) (1.14.6)\n",
      "Requirement already satisfied: pycparser in /Users/Vincent/opt/anaconda3/lib/python3.9/site-packages (from cffi>=1.0.0->argon2-cffi->notebook>=5.6.0->jupyterthemes) (2.20)\n",
      "Requirement already satisfied: debugpy<2.0,>=1.0.0 in /Users/Vincent/opt/anaconda3/lib/python3.9/site-packages (from ipykernel->notebook>=5.6.0->jupyterthemes) (1.4.1)\n",
      "Requirement already satisfied: MarkupSafe>=0.23 in /Users/Vincent/opt/anaconda3/lib/python3.9/site-packages (from jinja2->notebook>=5.6.0->jupyterthemes) (1.1.1)\n",
      "Requirement already satisfied: bleach in /Users/Vincent/opt/anaconda3/lib/python3.9/site-packages (from nbconvert->notebook>=5.6.0->jupyterthemes) (4.0.0)\n",
      "Requirement already satisfied: pandocfilters>=1.4.1 in /Users/Vincent/opt/anaconda3/lib/python3.9/site-packages (from nbconvert->notebook>=5.6.0->jupyterthemes) (1.4.3)\n",
      "Requirement already satisfied: nbclient<0.6.0,>=0.5.0 in /Users/Vincent/opt/anaconda3/lib/python3.9/site-packages (from nbconvert->notebook>=5.6.0->jupyterthemes) (0.5.3)\n",
      "Requirement already satisfied: mistune<2,>=0.8.1 in /Users/Vincent/opt/anaconda3/lib/python3.9/site-packages (from nbconvert->notebook>=5.6.0->jupyterthemes) (0.8.4)\n",
      "Requirement already satisfied: defusedxml in /Users/Vincent/opt/anaconda3/lib/python3.9/site-packages (from nbconvert->notebook>=5.6.0->jupyterthemes) (0.7.1)\n",
      "Requirement already satisfied: jupyterlab-pygments in /Users/Vincent/opt/anaconda3/lib/python3.9/site-packages (from nbconvert->notebook>=5.6.0->jupyterthemes) (0.1.2)\n",
      "Requirement already satisfied: entrypoints>=0.2.2 in /Users/Vincent/opt/anaconda3/lib/python3.9/site-packages (from nbconvert->notebook>=5.6.0->jupyterthemes) (0.3)\n",
      "Requirement already satisfied: testpath in /Users/Vincent/opt/anaconda3/lib/python3.9/site-packages (from nbconvert->notebook>=5.6.0->jupyterthemes) (0.5.0)\n",
      "Requirement already satisfied: nest-asyncio in /Users/Vincent/opt/anaconda3/lib/python3.9/site-packages (from nbclient<0.6.0,>=0.5.0->nbconvert->notebook>=5.6.0->jupyterthemes) (1.5.1)\n",
      "Requirement already satisfied: async-generator in /Users/Vincent/opt/anaconda3/lib/python3.9/site-packages (from nbclient<0.6.0,>=0.5.0->nbconvert->notebook>=5.6.0->jupyterthemes) (1.10)\n",
      "Requirement already satisfied: jsonschema!=2.5.0,>=2.4 in /Users/Vincent/opt/anaconda3/lib/python3.9/site-packages (from nbformat->notebook>=5.6.0->jupyterthemes) (3.2.0)\n"
     ]
    },
    {
     "name": "stdout",
     "output_type": "stream",
     "text": [
      "Requirement already satisfied: pyrsistent>=0.14.0 in /Users/Vincent/opt/anaconda3/lib/python3.9/site-packages (from jsonschema!=2.5.0,>=2.4->nbformat->notebook>=5.6.0->jupyterthemes) (0.18.0)\n",
      "Requirement already satisfied: attrs>=17.4.0 in /Users/Vincent/opt/anaconda3/lib/python3.9/site-packages (from jsonschema!=2.5.0,>=2.4->nbformat->notebook>=5.6.0->jupyterthemes) (21.2.0)\n",
      "Requirement already satisfied: packaging in /Users/Vincent/opt/anaconda3/lib/python3.9/site-packages (from bleach->nbconvert->notebook>=5.6.0->jupyterthemes) (21.0)\n",
      "Requirement already satisfied: webencodings in /Users/Vincent/opt/anaconda3/lib/python3.9/site-packages (from bleach->nbconvert->notebook>=5.6.0->jupyterthemes) (0.5.1)\n",
      "Installing collected packages: lesscpy, jupyterthemes\n",
      "Successfully installed jupyterthemes-0.20.0 lesscpy-0.15.0\n"
     ]
    }
   ],
   "source": [
    "! pip install jupyterthemes"
   ]
  },
  {
   "cell_type": "code",
   "execution_count": 36,
   "id": "9fe8b159",
   "metadata": {},
   "outputs": [
    {
     "name": "stdout",
     "output_type": "stream",
     "text": [
      "Available Themes: \r\n",
      "   chesterish\r\n",
      "   grade3\r\n",
      "   gruvboxd\r\n",
      "   gruvboxl\r\n",
      "   monokai\r\n",
      "   oceans16\r\n",
      "   onedork\r\n",
      "   solarizedd\r\n",
      "   solarizedl\r\n"
     ]
    }
   ],
   "source": [
    "! jt -l"
   ]
  },
  {
   "cell_type": "code",
   "execution_count": 47,
   "id": "2e8f8aca",
   "metadata": {},
   "outputs": [
    {
     "name": "stdout",
     "output_type": "stream",
     "text": [
      "usage: jt [-h] [-l] [-t THEME] [-f MONOFONT] [-fs MONOSIZE] [-nf NBFONT]\r\n",
      "          [-nfs NBFONTSIZE] [-tf TCFONT] [-tfs TCFONTSIZE] [-dfs DFFONTSIZE]\r\n",
      "          [-ofs OUTFONTSIZE] [-mathfs MATHFONTSIZE] [-m MARGINS]\r\n",
      "          [-cursw CURSORWIDTH] [-cursc CURSORCOLOR] [-cellw CELLWIDTH]\r\n",
      "          [-lineh LINEHEIGHT] [-altp] [-altmd] [-altout] [-P] [-T] [-N] [-kl]\r\n",
      "          [-vim] [-r] [-dfonts]\r\n",
      "\r\n",
      "optional arguments:\r\n",
      "  -h, --help            show this help message and exit\r\n",
      "  -l, --list            list available themes\r\n",
      "  -t THEME, --theme THEME\r\n",
      "                        theme name to install\r\n",
      "  -f MONOFONT, --monofont MONOFONT\r\n",
      "                        monospace code font\r\n",
      "  -fs MONOSIZE, --monosize MONOSIZE\r\n",
      "                        code font-size\r\n",
      "  -nf NBFONT, --nbfont NBFONT\r\n",
      "                        notebook font\r\n",
      "  -nfs NBFONTSIZE, --nbfontsize NBFONTSIZE\r\n",
      "                        notebook fontsize\r\n",
      "  -tf TCFONT, --tcfont TCFONT\r\n",
      "                        txtcell font\r\n",
      "  -tfs TCFONTSIZE, --tcfontsize TCFONTSIZE\r\n",
      "                        txtcell fontsize\r\n",
      "  -dfs DFFONTSIZE, --dffontsize DFFONTSIZE\r\n",
      "                        pandas dataframe fontsize\r\n",
      "  -ofs OUTFONTSIZE, --outfontsize OUTFONTSIZE\r\n",
      "                        output area fontsize\r\n",
      "  -mathfs MATHFONTSIZE, --mathfontsize MATHFONTSIZE\r\n",
      "                        mathjax fontsize (in %)\r\n",
      "  -m MARGINS, --margins MARGINS\r\n",
      "                        fix margins of main intro page\r\n",
      "  -cursw CURSORWIDTH, --cursorwidth CURSORWIDTH\r\n",
      "                        set cursorwidth (px)\r\n",
      "  -cursc CURSORCOLOR, --cursorcolor CURSORCOLOR\r\n",
      "                        cursor color (r, b, g, p)\r\n",
      "  -cellw CELLWIDTH, --cellwidth CELLWIDTH\r\n",
      "                        set cell width (px or %)\r\n",
      "  -lineh LINEHEIGHT, --lineheight LINEHEIGHT\r\n",
      "                        code/text line-height (%)\r\n",
      "  -altp, --altprompt    alt input prompt style\r\n",
      "  -altmd, --altmarkdown\r\n",
      "                        alt markdown cell style\r\n",
      "  -altout, --altoutput  set output bg color to notebook bg\r\n",
      "  -P, --hideprompt      hide cell input prompt\r\n",
      "  -T, --toolbar         make toolbar visible\r\n",
      "  -N, --nbname          nb name/logo visible\r\n",
      "  -kl, --kernellogo     kernel logo visible\r\n",
      "  -vim, --vimext        toggle styles for vim\r\n",
      "  -r, --reset           reset to default theme\r\n",
      "  -dfonts, --defaultfonts\r\n",
      "                        force fonts to browser default\r\n"
     ]
    }
   ],
   "source": [
    "!jt -h"
   ]
  },
  {
   "cell_type": "code",
   "execution_count": 48,
   "id": "363103ad",
   "metadata": {},
   "outputs": [
    {
     "name": "stdout",
     "output_type": "stream",
     "text": [
      "Available Themes: \r\n",
      "   chesterish\r\n",
      "   grade3\r\n",
      "   gruvboxd\r\n",
      "   gruvboxl\r\n",
      "   monokai\r\n",
      "   oceans16\r\n",
      "   onedork\r\n",
      "   solarizedd\r\n",
      "   solarizedl\r\n"
     ]
    }
   ],
   "source": [
    "!jt -l"
   ]
  },
  {
   "cell_type": "code",
   "execution_count": 49,
   "id": "2e354ee1",
   "metadata": {},
   "outputs": [],
   "source": [
    "!jt -t gruvboxd"
   ]
  },
  {
   "cell_type": "code",
   "execution_count": 3,
   "id": "0cc682ce",
   "metadata": {},
   "outputs": [
    {
     "name": "stdout",
     "output_type": "stream",
     "text": [
      "usage: jt [-h] [-l] [-t THEME] [-f MONOFONT] [-fs MONOSIZE] [-nf NBFONT]\r\n",
      "          [-nfs NBFONTSIZE] [-tf TCFONT] [-tfs TCFONTSIZE] [-dfs DFFONTSIZE]\r\n",
      "          [-ofs OUTFONTSIZE] [-mathfs MATHFONTSIZE] [-m MARGINS]\r\n",
      "          [-cursw CURSORWIDTH] [-cursc CURSORCOLOR] [-cellw CELLWIDTH]\r\n",
      "          [-lineh LINEHEIGHT] [-altp] [-altmd] [-altout] [-P] [-T] [-N] [-kl]\r\n",
      "          [-vim] [-r] [-dfonts]\r\n",
      "jt: error: unrecognized arguments: -M\r\n"
     ]
    }
   ],
   "source": [
    "\n",
    "!jt -t monokai -T -M"
   ]
  },
  {
   "cell_type": "code",
   "execution_count": 4,
   "id": "d989892c",
   "metadata": {},
   "outputs": [
    {
     "name": "stdout",
     "output_type": "stream",
     "text": [
      "Reset css and font defaults in:\r\n",
      "/Users/Vincent/.jupyter/custom &\r\n",
      "/Users/Vincent/Library/Jupyter/nbextensions\r\n"
     ]
    }
   ],
   "source": [
    "#reset theme\n",
    "!jt -r"
   ]
  },
  {
   "cell_type": "code",
   "execution_count": 56,
   "id": "8a9492fc",
   "metadata": {},
   "outputs": [
    {
     "data": {
      "text/plain": [
       "True"
      ]
     },
     "execution_count": 56,
     "metadata": {},
     "output_type": "execute_result"
    }
   ],
   "source": [
    "my_string = \"Hello World\"\n",
    "\"ello\" in my_string"
   ]
  },
  {
   "cell_type": "code",
   "execution_count": 61,
   "id": "743b27b7",
   "metadata": {},
   "outputs": [
    {
     "name": "stdout",
     "output_type": "stream",
     "text": [
      "12\n",
      "10\n"
     ]
    }
   ],
   "source": [
    "str_1 = \" helloworld \"\n",
    "str_2 = \"Helloworld\"\n",
    "print(len(str_1))\n",
    "print(len(str_2))"
   ]
  },
  {
   "cell_type": "code",
   "execution_count": 65,
   "id": "8eb6d30a",
   "metadata": {},
   "outputs": [
    {
     "name": "stdout",
     "output_type": "stream",
     "text": [
      "helloworld\n"
     ]
    }
   ],
   "source": [
    "str_1 = \" helloworld \"\n",
    "str_2 = \"Helloworld\"\n",
    "\n",
    "print(str_1.strip())"
   ]
  },
  {
   "cell_type": "code",
   "execution_count": 64,
   "id": "71470c11",
   "metadata": {},
   "outputs": [
    {
     "data": {
      "text/plain": [
       "' helloworld'"
      ]
     },
     "execution_count": 64,
     "metadata": {},
     "output_type": "execute_result"
    }
   ],
   "source": [
    "str_1.rstrip()"
   ]
  },
  {
   "cell_type": "code",
   "execution_count": null,
   "id": "b6634fa2",
   "metadata": {},
   "outputs": [],
   "source": [
    "str_1=\"******Hello World\""
   ]
  },
  {
   "cell_type": "code",
   "execution_count": 69,
   "id": "8e58e411",
   "metadata": {},
   "outputs": [
    {
     "data": {
      "text/plain": [
       "3"
      ]
     },
     "execution_count": 69,
     "metadata": {},
     "output_type": "execute_result"
    }
   ],
   "source": [
    "str_1.count(\"l\")"
   ]
  },
  {
   "cell_type": "code",
   "execution_count": 77,
   "id": "7d0b2c92",
   "metadata": {},
   "outputs": [
    {
     "data": {
      "text/plain": [
       "58"
      ]
     },
     "execution_count": 77,
     "metadata": {},
     "output_type": "execute_result"
    }
   ],
   "source": [
    "str3 = \"Hello Techo, my name is Techo. Not Vincent, but Dr. Techo\"\n",
    "str3.count(\"\")"
   ]
  },
  {
   "cell_type": "code",
   "execution_count": 78,
   "id": "b0703190",
   "metadata": {},
   "outputs": [
    {
     "data": {
      "text/plain": [
       "3"
      ]
     },
     "execution_count": 78,
     "metadata": {},
     "output_type": "execute_result"
    }
   ],
   "source": [
    "str4 = \"Hello Techo, my name is Techo. Not Vincent, but Dr. Techo\"\n",
    "str3.count(\"Techo\")"
   ]
  },
  {
   "cell_type": "code",
   "execution_count": 79,
   "id": "3d236639",
   "metadata": {},
   "outputs": [
    {
     "data": {
      "text/plain": [
       "6"
      ]
     },
     "execution_count": 79,
     "metadata": {},
     "output_type": "execute_result"
    }
   ],
   "source": [
    "str3 = \"Hello Techo, my name is Techo. Not Vincent, but Dr. Techo\"\n",
    "str3.find(\"Techo\")"
   ]
  },
  {
   "cell_type": "code",
   "execution_count": 80,
   "id": "0d0b72a1",
   "metadata": {},
   "outputs": [
    {
     "data": {
      "text/plain": [
       "52"
      ]
     },
     "execution_count": 80,
     "metadata": {},
     "output_type": "execute_result"
    }
   ],
   "source": [
    "str3 = \"Hello Techo, my name is Techo. Not Vincent, but Dr. Techo\"\n",
    "str3.rfind(\"Techo\")"
   ]
  },
  {
   "cell_type": "code",
   "execution_count": 81,
   "id": "a7a40115",
   "metadata": {},
   "outputs": [
    {
     "data": {
      "text/plain": [
       "['Hello Techo, my name is Techo', ' Not Vincent, but Dr', ' Techo']"
      ]
     },
     "execution_count": 81,
     "metadata": {},
     "output_type": "execute_result"
    }
   ],
   "source": [
    "str3 = \"Hello Techo, my name is Techo. Not Vincent, but Dr. Techo\"\n",
    "str3.split(\".\")"
   ]
  },
  {
   "cell_type": "markdown",
   "id": "f3d8e667",
   "metadata": {},
   "source": []
  },
  {
   "cell_type": "code",
   "execution_count": 83,
   "id": "f8f54997",
   "metadata": {},
   "outputs": [
    {
     "data": {
      "text/plain": [
       "['Hello Techo, my name is Techo', ' Not Vincent, but Dr', ' Techo']"
      ]
     },
     "execution_count": 83,
     "metadata": {},
     "output_type": "execute_result"
    }
   ],
   "source": []
  },
  {
   "cell_type": "code",
   "execution_count": 85,
   "id": "8782d888",
   "metadata": {},
   "outputs": [
    {
     "data": {
      "text/plain": [
       "['Hello',\n",
       " 'Techo,',\n",
       " 'my',\n",
       " 'name',\n",
       " 'is',\n",
       " 'Techo.',\n",
       " 'Not',\n",
       " 'Vincent,',\n",
       " 'but',\n",
       " 'Dr.',\n",
       " 'Techo']"
      ]
     },
     "execution_count": 85,
     "metadata": {},
     "output_type": "execute_result"
    }
   ],
   "source": []
  },
  {
   "cell_type": "code",
   "execution_count": 86,
   "id": "13d0cc5b",
   "metadata": {},
   "outputs": [
    {
     "data": {
      "text/plain": [
       "['Hello Techo', ' my name is Techo. Not Vincent', ' but Dr. Techo']"
      ]
     },
     "execution_count": 86,
     "metadata": {},
     "output_type": "execute_result"
    }
   ],
   "source": [
    "str3 = \"Hello Techo, my name is Techo. Not Vincent, but Dr. Techo\"\n",
    "str3.split(\",\")"
   ]
  },
  {
   "cell_type": "code",
   "execution_count": 87,
   "id": "6fc8db11",
   "metadata": {},
   "outputs": [
    {
     "data": {
      "text/plain": [
       "['Hell', ' Tech', ', my name is Tech', '. N', 't Vincent, but Dr. Tech', '']"
      ]
     },
     "execution_count": 87,
     "metadata": {},
     "output_type": "execute_result"
    }
   ],
   "source": []
  },
  {
   "cell_type": "code",
   "execution_count": 107,
   "id": "92515169",
   "metadata": {},
   "outputs": [
    {
     "name": "stdout",
     "output_type": "stream",
     "text": [
      "['Hi', 'Welcome', 'to', 'the', 'course']\n"
     ]
    }
   ],
   "source": []
  },
  {
   "cell_type": "code",
   "execution_count": 109,
   "id": "feb39b3d",
   "metadata": {},
   "outputs": [
    {
     "name": "stdout",
     "output_type": "stream",
     "text": [
      "['Hi', 'Welcome', 'to', 'the', 'course']\n",
      "Hi Welcome to the course\n"
     ]
    }
   ],
   "source": []
  },
  {
   "cell_type": "code",
   "execution_count": 112,
   "id": "819739e2",
   "metadata": {},
   "outputs": [
    {
     "name": "stdout",
     "output_type": "stream",
     "text": [
      "Hi\n",
      "Welcome\n",
      "to\n",
      "the\n",
      "course\n"
     ]
    }
   ],
   "source": [
    "for item in test:\n",
    "    print(item)"
   ]
  },
  {
   "cell_type": "code",
   "execution_count": 121,
   "id": "896f190e",
   "metadata": {},
   "outputs": [
    {
     "name": "stdout",
     "output_type": "stream",
     "text": [
      "0 Hi\n",
      "1 Welcome\n",
      "2 to\n",
      "3 the\n",
      "4 course\n"
     ]
    }
   ],
   "source": [
    "for index, item in enumerate (test):\n",
    "    print(index,item)"
   ]
  },
  {
   "cell_type": "code",
   "execution_count": 122,
   "id": "34354f8b",
   "metadata": {},
   "outputs": [
    {
     "ename": "AttributeError",
     "evalue": "'list' object has no attribute 'startswith'",
     "output_type": "error",
     "traceback": [
      "\u001b[0;31m---------------------------------------------------------------------------\u001b[0m",
      "\u001b[0;31mAttributeError\u001b[0m                            Traceback (most recent call last)",
      "\u001b[0;32m/var/folders/yn/bgdm1mhs37b6r_38shjd1v5c0000gn/T/ipykernel_2412/2010237724.py\u001b[0m in \u001b[0;36m<module>\u001b[0;34m\u001b[0m\n\u001b[0;32m----> 1\u001b[0;31m \u001b[0mtest\u001b[0m\u001b[0;34m.\u001b[0m\u001b[0mstartswith\u001b[0m\u001b[0;34m(\u001b[0m\u001b[0mHi\u001b[0m\u001b[0;34m)\u001b[0m\u001b[0;34m\u001b[0m\u001b[0;34m\u001b[0m\u001b[0m\n\u001b[0m",
      "\u001b[0;31mAttributeError\u001b[0m: 'list' object has no attribute 'startswith'"
     ]
    }
   ],
   "source": [
    "test.startswith(Hi)"
   ]
  },
  {
   "cell_type": "code",
   "execution_count": 124,
   "id": "92201e81",
   "metadata": {},
   "outputs": [
    {
     "name": "stdout",
     "output_type": "stream",
     "text": [
      "you can add text and numbers as strings 12\n"
     ]
    }
   ],
   "source": [
    "print(\"you can add text and numbers as strings\" + \" 12\")"
   ]
  },
  {
   "cell_type": "code",
   "execution_count": 133,
   "id": "01a4c2dd",
   "metadata": {},
   "outputs": [
    {
     "name": "stdout",
     "output_type": "stream",
     "text": [
      "Hello, this  is a string  that I want to slic\n"
     ]
    }
   ],
   "source": [
    "# Slicing a string\n",
    "my_str=\"Hello, this is a string that I want to slice\"\n",
    "my_sliced_str1 = my_str[0:11]\n",
    "my_sliced_str2 = my_str[11:23]\n",
    "my_sliced_str3 = my_str[23:-1]\n",
    "\n",
    "\n",
    "print(my_sliced_str1,my_sliced_str2,my_sliced_str3)\n"
   ]
  },
  {
   "cell_type": "code",
   "execution_count": 141,
   "id": "b5368b43",
   "metadata": {},
   "outputs": [
    {
     "name": "stdout",
     "output_type": "stream",
     "text": [
      "123456789\n"
     ]
    }
   ],
   "source": [
    "my_str1 = \"1,2,3,4,5,6,7,8,9,10\"\n",
    "\n",
    "print(my_str1[0:-2:2])  # I'm trying to pring all odd numbers by slicing. It doesn't work! How to do this?"
   ]
  },
  {
   "cell_type": "code",
   "execution_count": 143,
   "id": "f6d22435",
   "metadata": {},
   "outputs": [
    {
     "name": "stdout",
     "output_type": "stream",
     "text": [
      "Python is a wonderful language. But, I can't speak it.\n"
     ]
    }
   ],
   "source": [
    "# Concatenating strings\n",
    "\n",
    "\n",
    "my_str3 =\"Python is a\"\n",
    "my_str4 =  \" wonderful language.\"\n",
    "my_str5 = \" But, I can't speak it.\"\n",
    "\n",
    "conca_str = my_str3 + my_str4 +my_str5\n",
    "print(conca_str)\n"
   ]
  },
  {
   "cell_type": "code",
   "execution_count": null,
   "id": "c5bbd8fd",
   "metadata": {},
   "outputs": [],
   "source": [
    "# Checking membership in a string\n",
    "\n",
    "my_"
   ]
  },
  {
   "cell_type": "code",
   "execution_count": 144,
   "id": "56774cc4",
   "metadata": {},
   "outputs": [
    {
     "name": "stdout",
     "output_type": "stream",
     "text": [
      "33227552537453169\n"
     ]
    }
   ],
   "source": [
    "print (567**6)"
   ]
  },
  {
   "cell_type": "code",
   "execution_count": 147,
   "id": "edbad199",
   "metadata": {},
   "outputs": [
    {
     "name": "stdout",
     "output_type": "stream",
     "text": [
      "['ArithmeticError', 'AssertionError', 'AttributeError', 'BaseException', 'BlockingIOError', 'BrokenPipeError', 'BufferError', 'BytesWarning', 'ChildProcessError', 'ConnectionAbortedError', 'ConnectionError', 'ConnectionRefusedError', 'ConnectionResetError', 'DeprecationWarning', 'EOFError', 'Ellipsis', 'EnvironmentError', 'Exception', 'False', 'FileExistsError', 'FileNotFoundError', 'FloatingPointError', 'FutureWarning', 'GeneratorExit', 'IOError', 'ImportError', 'ImportWarning', 'IndentationError', 'IndexError', 'InterruptedError', 'IsADirectoryError', 'KeyError', 'KeyboardInterrupt', 'LookupError', 'MemoryError', 'ModuleNotFoundError', 'NameError', 'None', 'NotADirectoryError', 'NotImplemented', 'NotImplementedError', 'OSError', 'OverflowError', 'PendingDeprecationWarning', 'PermissionError', 'ProcessLookupError', 'RecursionError', 'ReferenceError', 'ResourceWarning', 'RuntimeError', 'RuntimeWarning', 'StopAsyncIteration', 'StopIteration', 'SyntaxError', 'SyntaxWarning', 'SystemError', 'SystemExit', 'TabError', 'TimeoutError', 'True', 'TypeError', 'UnboundLocalError', 'UnicodeDecodeError', 'UnicodeEncodeError', 'UnicodeError', 'UnicodeTranslateError', 'UnicodeWarning', 'UserWarning', 'ValueError', 'Warning', 'ZeroDivisionError', '__IPYTHON__', '__build_class__', '__debug__', '__doc__', '__import__', '__loader__', '__name__', '__package__', '__spec__', 'abs', 'all', 'any', 'ascii', 'bin', 'bool', 'breakpoint', 'bytearray', 'bytes', 'callable', 'chr', 'classmethod', 'compile', 'complex', 'copyright', 'credits', 'delattr', 'dict', 'dir', 'display', 'divmod', 'enumerate', 'eval', 'exec', 'execfile', 'filter', 'float', 'format', 'frozenset', 'get_ipython', 'getattr', 'globals', 'hasattr', 'hash', 'help', 'hex', 'id', 'input', 'int', 'isinstance', 'issubclass', 'iter', 'len', 'license', 'list', 'locals', 'map', 'max', 'memoryview', 'min', 'next', 'object', 'oct', 'open', 'ord', 'pow', 'print', 'property', 'range', 'repr', 'reversed', 'round', 'runfile', 'set', 'setattr', 'slice', 'sorted', 'staticmethod', 'str', 'sum', 'super', 'tuple', 'type', 'vars', 'zip']\n"
     ]
    }
   ],
   "source": [
    "print(dir(__builtins__))"
   ]
  },
  {
   "cell_type": "code",
   "execution_count": 148,
   "id": "2bbf9371",
   "metadata": {},
   "outputs": [
    {
     "name": "stdout",
     "output_type": "stream",
     "text": [
      "['__abs__', '__add__', '__and__', '__bool__', '__ceil__', '__class__', '__delattr__', '__dir__', '__divmod__', '__doc__', '__eq__', '__float__', '__floor__', '__floordiv__', '__format__', '__ge__', '__getattribute__', '__getnewargs__', '__gt__', '__hash__', '__index__', '__init__', '__init_subclass__', '__int__', '__invert__', '__le__', '__lshift__', '__lt__', '__mod__', '__mul__', '__ne__', '__neg__', '__new__', '__or__', '__pos__', '__pow__', '__radd__', '__rand__', '__rdivmod__', '__reduce__', '__reduce_ex__', '__repr__', '__rfloordiv__', '__rlshift__', '__rmod__', '__rmul__', '__ror__', '__round__', '__rpow__', '__rrshift__', '__rshift__', '__rsub__', '__rtruediv__', '__rxor__', '__setattr__', '__sizeof__', '__str__', '__sub__', '__subclasshook__', '__truediv__', '__trunc__', '__xor__', 'as_integer_ratio', 'bit_length', 'conjugate', 'denominator', 'from_bytes', 'imag', 'numerator', 'real', 'to_bytes']\n"
     ]
    }
   ],
   "source": [
    "print(dir(97))"
   ]
  },
  {
   "cell_type": "code",
   "execution_count": 149,
   "id": "00efeb34",
   "metadata": {},
   "outputs": [],
   "source": [
    "import math"
   ]
  },
  {
   "cell_type": "code",
   "execution_count": 152,
   "id": "9a9ea509",
   "metadata": {},
   "outputs": [
    {
     "name": "stdout",
     "output_type": "stream",
     "text": [
      "201.06192982974676\n"
     ]
    }
   ],
   "source": [
    "r = 8\n",
    "area = math.pi*pow(r,2)\n",
    "print(area)"
   ]
  },
  {
   "cell_type": "code",
   "execution_count": 153,
   "id": "4194cf61",
   "metadata": {},
   "outputs": [
    {
     "name": "stdout",
     "output_type": "stream",
     "text": [
      "153.93804002589985\n"
     ]
    }
   ],
   "source": [
    "r = 7\n",
    "area = math.pi*math.pow(r,2)\n",
    "print(area)"
   ]
  },
  {
   "cell_type": "code",
   "execution_count": 154,
   "id": "4f65b6c4",
   "metadata": {},
   "outputs": [
    {
     "name": "stdout",
     "output_type": "stream",
     "text": [
      "Equivalent to base**exp with 2 arguments or base**exp % mod with 3 arguments\n",
      "\n",
      "Some types, such as ints, are able to use a more efficient algorithm when\n",
      "invoked using the three argument form.\n"
     ]
    }
   ],
   "source": [
    "print(pow.__doc__)"
   ]
  },
  {
   "cell_type": "code",
   "execution_count": 158,
   "id": "d10f60ba",
   "metadata": {},
   "outputs": [
    {
     "name": "stdout",
     "output_type": "stream",
     "text": [
      "This module provides access to the mathematical functions\n",
      "defined by the C standard.\n"
     ]
    }
   ],
   "source": [
    "print(math.__doc__)"
   ]
  },
  {
   "cell_type": "code",
   "execution_count": 159,
   "id": "f99766a2",
   "metadata": {},
   "outputs": [
    {
     "ename": "NameError",
     "evalue": "name 'exp' is not defined",
     "output_type": "error",
     "traceback": [
      "\u001b[0;31m---------------------------------------------------------------------------\u001b[0m",
      "\u001b[0;31mNameError\u001b[0m                                 Traceback (most recent call last)",
      "\u001b[0;32m/var/folders/yn/bgdm1mhs37b6r_38shjd1v5c0000gn/T/ipykernel_2412/4133140082.py\u001b[0m in \u001b[0;36m<module>\u001b[0;34m\u001b[0m\n\u001b[0;32m----> 1\u001b[0;31m \u001b[0mprint\u001b[0m\u001b[0;34m(\u001b[0m\u001b[0mexp\u001b[0m\u001b[0;34m.\u001b[0m\u001b[0m__doc__\u001b[0m\u001b[0;34m)\u001b[0m\u001b[0;34m\u001b[0m\u001b[0;34m\u001b[0m\u001b[0m\n\u001b[0m",
      "\u001b[0;31mNameError\u001b[0m: name 'exp' is not defined"
     ]
    }
   ],
   "source": [
    "print(exp.__doc__)"
   ]
  },
  {
   "cell_type": "code",
   "execution_count": 160,
   "id": "7105ce6f",
   "metadata": {},
   "outputs": [
    {
     "name": "stdout",
     "output_type": "stream",
     "text": [
      "3.0\n"
     ]
    }
   ],
   "source": [
    "print(math.fmod(19.0, 4))"
   ]
  },
  {
   "cell_type": "code",
   "execution_count": 162,
   "id": "2dcbdc57",
   "metadata": {},
   "outputs": [
    {
     "name": "stdout",
     "output_type": "stream",
     "text": [
      "5\n"
     ]
    }
   ],
   "source": [
    "print(int(\"5\"))"
   ]
  },
  {
   "cell_type": "code",
   "execution_count": 163,
   "id": "0f21d581",
   "metadata": {},
   "outputs": [
    {
     "name": "stdout",
     "output_type": "stream",
     "text": [
      "6.8\n"
     ]
    }
   ],
   "source": [
    "print(float(6.8))"
   ]
  },
  {
   "cell_type": "code",
   "execution_count": 164,
   "id": "c66408f5",
   "metadata": {},
   "outputs": [
    {
     "name": "stdout",
     "output_type": "stream",
     "text": [
      "6.6\n"
     ]
    }
   ],
   "source": [
    "print(str(6.6))"
   ]
  },
  {
   "cell_type": "code",
   "execution_count": 165,
   "id": "8c8dbce3",
   "metadata": {},
   "outputs": [
    {
     "name": "stdout",
     "output_type": "stream",
     "text": [
      "-10\n"
     ]
    }
   ],
   "source": [
    "print(int(-10))"
   ]
  },
  {
   "cell_type": "code",
   "execution_count": 217,
   "id": "17753be1",
   "metadata": {},
   "outputs": [
    {
     "name": "stdout",
     "output_type": "stream",
     "text": [
      "2\n"
     ]
    }
   ],
   "source": [
    "number_5days = 13//5\n",
    "print(number_5days)"
   ]
  },
  {
   "cell_type": "markdown",
   "id": "72b7f0e0",
   "metadata": {},
   "source": [
    "## The power function"
   ]
  },
  {
   "cell_type": "code",
   "execution_count": 174,
   "id": "41934757",
   "metadata": {},
   "outputs": [
    {
     "name": "stdout",
     "output_type": "stream",
     "text": [
      "Enter the radius: 5\n",
      "5.0\n",
      "78.53981633974483\n"
     ]
    }
   ],
   "source": [
    "from math import pi\n",
    "\n",
    "radius = float(input(\"Enter the radius: \"))\n",
    "\n",
    "area = pi * pow(radius,2)\n",
    "\n",
    "print(area)"
   ]
  },
  {
   "cell_type": "markdown",
   "id": "c8146986",
   "metadata": {},
   "source": []
  },
  {
   "cell_type": "code",
   "execution_count": 175,
   "id": "a0ff9306",
   "metadata": {},
   "outputs": [
    {
     "data": {
      "text/plain": [
       "4"
      ]
     },
     "execution_count": 175,
     "metadata": {},
     "output_type": "execute_result"
    }
   ],
   "source": []
  },
  {
   "cell_type": "code",
   "execution_count": 189,
   "id": "88ee92c2",
   "metadata": {},
   "outputs": [
    {
     "name": "stdout",
     "output_type": "stream",
     "text": [
      "tysmery\n"
     ]
    }
   ],
   "source": []
  },
  {
   "cell_type": "code",
   "execution_count": 192,
   "id": "b5b9a78d",
   "metadata": {},
   "outputs": [
    {
     "name": "stdout",
     "output_type": "stream",
     "text": [
      "Enter an odd numbered word: lucky\n",
      "kucly\n"
     ]
    }
   ],
   "source": []
  },
  {
   "cell_type": "code",
   "execution_count": 190,
   "id": "0ab20f97",
   "metadata": {},
   "outputs": [
    {
     "name": "stdout",
     "output_type": "stream",
     "text": [
      "yysterm\n"
     ]
    }
   ],
   "source": []
  },
  {
   "cell_type": "code",
   "execution_count": 195,
   "id": "15cdf115",
   "metadata": {},
   "outputs": [
    {
     "name": "stdout",
     "output_type": "stream",
     "text": [
      "Enter an odd numbered word: jupyter\n",
      "rupytej\n"
     ]
    }
   ],
   "source": []
  },
  {
   "cell_type": "markdown",
   "id": "34fb68e3",
   "metadata": {},
   "source": [
    "\n"
   ]
  },
  {
   "cell_type": "code",
   "execution_count": 198,
   "id": "c4155fc5",
   "metadata": {},
   "outputs": [
    {
     "name": "stdout",
     "output_type": "stream",
     "text": [
      "Enter any word: chocolocobambushey\n",
      "CHOCOLOCOBAMBUSHEY\n"
     ]
    }
   ],
   "source": [
    "import math\n",
    "\n"
   ]
  },
  {
   "cell_type": "code",
   "execution_count": 199,
   "id": "6a662124",
   "metadata": {},
   "outputs": [
    {
     "name": "stdout",
     "output_type": "stream",
     "text": [
      "Enter a string: mathematics\n",
      "MAT\n"
     ]
    }
   ],
   "source": [
    "\n"
   ]
  },
  {
   "cell_type": "code",
   "execution_count": 201,
   "id": "264a8902",
   "metadata": {},
   "outputs": [
    {
     "name": "stdout",
     "output_type": "stream",
     "text": [
      "Enter a number: Enter a number: Py Day\n",
      "Py Day\n"
     ]
    }
   ],
   "source": [
    "print(input(2 * \"Enter a number: \"))"
   ]
  },
  {
   "cell_type": "code",
   "execution_count": 202,
   "id": "e2683bfd",
   "metadata": {},
   "outputs": [
    {
     "name": "stdout",
     "output_type": "stream",
     "text": [
      "Enter a number: Py Day \n",
      "Py Day Py Day \n"
     ]
    }
   ],
   "source": [
    "print(2 * input( \"Enter a number: \"))"
   ]
  },
  {
   "cell_type": "code",
   "execution_count": 203,
   "id": "5eab92fd",
   "metadata": {},
   "outputs": [
    {
     "ename": "SyntaxError",
     "evalue": "invalid syntax (716746016.py, line 1)",
     "output_type": "error",
     "traceback": [
      "\u001b[0;36m  File \u001b[0;32m\"/var/folders/yn/bgdm1mhs37b6r_38shjd1v5c0000gn/T/ipykernel_2412/716746016.py\"\u001b[0;36m, line \u001b[0;32m1\u001b[0m\n\u001b[0;31m    for = 4\u001b[0m\n\u001b[0m        ^\u001b[0m\n\u001b[0;31mSyntaxError\u001b[0m\u001b[0;31m:\u001b[0m invalid syntax\n"
     ]
    }
   ],
   "source": [
    "for = 4   #syntax error: for is a buildin function\n",
    "five = 5\n",
    "print(for + five)"
   ]
  },
  {
   "cell_type": "markdown",
   "id": "71b59cd4",
   "metadata": {},
   "source": []
  },
  {
   "cell_type": "code",
   "execution_count": 206,
   "id": "c6722c45",
   "metadata": {},
   "outputs": [
    {
     "name": "stdout",
     "output_type": "stream",
     "text": [
      "Enter a string of at least two: vice versa\n",
      "aice versv\n"
     ]
    }
   ],
   "source": []
  },
  {
   "cell_type": "markdown",
   "id": "d7267931",
   "metadata": {},
   "source": []
  },
  {
   "cell_type": "code",
   "execution_count": 214,
   "id": "8db380cc",
   "metadata": {},
   "outputs": [
    {
     "name": "stdout",
     "output_type": "stream",
     "text": [
      "Enter a word of at least two: CaTeRpiLA\n",
      "CATER\n",
      "pila\n",
      "CATERpila\n"
     ]
    }
   ],
   "source": []
  },
  {
   "cell_type": "code",
   "execution_count": 215,
   "id": "a7d86fd1",
   "metadata": {},
   "outputs": [
    {
     "name": "stdout",
     "output_type": "stream",
     "text": [
      "Enter a word of at least two: CaTeRpiLA\n",
      "CATErpila\n"
     ]
    }
   ],
   "source": []
  },
  {
   "cell_type": "markdown",
   "id": "f11571ca",
   "metadata": {},
   "source": [
    "# While statement"
   ]
  },
  {
   "cell_type": "code",
   "execution_count": 4,
   "id": "19efd41e",
   "metadata": {},
   "outputs": [
    {
     "name": "stdout",
     "output_type": "stream",
     "text": [
      "Hello, how are you? how is the weather today? Hope fine.\n"
     ]
    }
   ],
   "source": [
    "print(\"Hello, \" + \"how are you? \" +\\\n",
    "      \"how is the weather today? \"\\\n",
    "     \"Hope fine.\")"
   ]
  },
  {
   "cell_type": "code",
   "execution_count": 6,
   "id": "fa2f605c",
   "metadata": {},
   "outputs": [
    {
     "name": "stdout",
     "output_type": "stream",
     "text": [
      "Reset css and font defaults in:\r\n",
      "/Users/Vincent/.jupyter/custom &\r\n",
      "/Users/Vincent/Library/Jupyter/nbextensions\r\n"
     ]
    }
   ],
   "source": [
    "!jt -r"
   ]
  },
  {
   "cell_type": "markdown",
   "id": "b10c8879",
   "metadata": {},
   "source": [
    "# Defining a function"
   ]
  },
  {
   "cell_type": "code",
   "execution_count": 11,
   "id": "2086d2d4",
   "metadata": {},
   "outputs": [
    {
     "name": "stdout",
     "output_type": "stream",
     "text": [
      "100\n"
     ]
    }
   ],
   "source": [
    "def f(x,y):\n",
    "    z = (x +y)**2\n",
    "    return z\n",
    "print(f(4,6))\n"
   ]
  },
  {
   "cell_type": "code",
   "execution_count": 12,
   "id": "b4adc7f2",
   "metadata": {},
   "outputs": [
    {
     "name": "stdout",
     "output_type": "stream",
     "text": [
      "16\n"
     ]
    }
   ],
   "source": [
    "def f(x,y):\n",
    "    return y**x\n",
    "print(f(2,4))"
   ]
  },
  {
   "cell_type": "code",
   "execution_count": 20,
   "id": "f9c47d86",
   "metadata": {},
   "outputs": [
    {
     "name": "stdout",
     "output_type": "stream",
     "text": [
      "625\n"
     ]
    }
   ],
   "source": [
    "def f(x,y):\n",
    "    z = y**x\n",
    "    return(z)\n",
    "print(f(4,5))"
   ]
  },
  {
   "cell_type": "code",
   "execution_count": 21,
   "id": "d7c0f0f9",
   "metadata": {},
   "outputs": [
    {
     "name": "stdout",
     "output_type": "stream",
     "text": [
      "2\n"
     ]
    }
   ],
   "source": [
    "def f(big, small):\n",
    "    return 2\n",
    "\n",
    "print(f(4, 2))"
   ]
  },
  {
   "cell_type": "markdown",
   "id": "a3a85722",
   "metadata": {},
   "source": [
    "### Calculating parking cost"
   ]
  },
  {
   "cell_type": "code",
   "execution_count": 24,
   "id": "a3c6c197",
   "metadata": {},
   "outputs": [
    {
     "ename": "NameError",
     "evalue": "name 'radius' is not defined",
     "output_type": "error",
     "traceback": [
      "\u001b[0;31m---------------------------------------------------------------------------\u001b[0m",
      "\u001b[0;31mNameError\u001b[0m                                 Traceback (most recent call last)",
      "\u001b[0;32m/var/folders/yn/bgdm1mhs37b6r_38shjd1v5c0000gn/T/ipykernel_73851/223041488.py\u001b[0m in \u001b[0;36m<module>\u001b[0;34m\u001b[0m\n\u001b[1;32m     12\u001b[0m \u001b[0;34m\u001b[0m\u001b[0m\n\u001b[1;32m     13\u001b[0m \u001b[0;34m\u001b[0m\u001b[0m\n\u001b[0;32m---> 14\u001b[0;31m \u001b[0mprint\u001b[0m\u001b[0;34m(\u001b[0m\u001b[0mvolume_cylinder\u001b[0m\u001b[0;34m(\u001b[0m\u001b[0;36m2\u001b[0m\u001b[0;34m)\u001b[0m\u001b[0;34m)\u001b[0m\u001b[0;34m\u001b[0m\u001b[0;34m\u001b[0m\u001b[0m\n\u001b[0m",
      "\u001b[0;32m/var/folders/yn/bgdm1mhs37b6r_38shjd1v5c0000gn/T/ipykernel_73851/223041488.py\u001b[0m in \u001b[0;36mvolume_cylinder\u001b[0;34m(height)\u001b[0m\n\u001b[1;32m      8\u001b[0m \u001b[0;32mdef\u001b[0m \u001b[0mvolume_cylinder\u001b[0m \u001b[0;34m(\u001b[0m\u001b[0mheight\u001b[0m\u001b[0;34m)\u001b[0m\u001b[0;34m:\u001b[0m\u001b[0;34m\u001b[0m\u001b[0;34m\u001b[0m\u001b[0m\n\u001b[1;32m      9\u001b[0m     \u001b[0mpi\u001b[0m \u001b[0;34m=\u001b[0m \u001b[0mmath\u001b[0m\u001b[0;34m.\u001b[0m\u001b[0mpi\u001b[0m\u001b[0;34m\u001b[0m\u001b[0;34m\u001b[0m\u001b[0m\n\u001b[0;32m---> 10\u001b[0;31m     \u001b[0mvolume\u001b[0m \u001b[0;34m=\u001b[0m \u001b[0mheight\u001b[0m \u001b[0;34m*\u001b[0m \u001b[0mpi\u001b[0m \u001b[0;34m*\u001b[0m \u001b[0mradius\u001b[0m \u001b[0;34m*\u001b[0m \u001b[0;36m2\u001b[0m  \u001b[0;31m# variable with volume value\u001b[0m\u001b[0;34m\u001b[0m\u001b[0;34m\u001b[0m\u001b[0m\n\u001b[0m\u001b[1;32m     11\u001b[0m     \u001b[0;32mreturn\u001b[0m \u001b[0mvolume\u001b[0m   \u001b[0;31m# returns the volume\u001b[0m\u001b[0;34m\u001b[0m\u001b[0;34m\u001b[0m\u001b[0m\n\u001b[1;32m     12\u001b[0m \u001b[0;34m\u001b[0m\u001b[0m\n",
      "\u001b[0;31mNameError\u001b[0m: name 'radius' is not defined"
     ]
    }
   ],
   "source": [
    "import math\n",
    "def area_circle(radius):\n",
    "    return math.pi * radius ** 2\n",
    "    \n",
    "\n",
    "\n",
    "\n",
    "def volume_cylinder (height):\n",
    "    pi = math.pi    \n",
    "    volume = height * pi * radius * 2  # variable with volume value\n",
    "    return volume   # returns the volume\n",
    "\n",
    "\n",
    "print(volume_cylinder(2))"
   ]
  },
  {
   "cell_type": "markdown",
   "id": "6075d874",
   "metadata": {},
   "source": [
    "### Volume of a cylinder"
   ]
  },
  {
   "cell_type": "markdown",
   "id": "6dce5479",
   "metadata": {},
   "source": [
    "#### Write a function volume_cylinder that consumes the diameter in metres and produces the volume of a cylinder of length 2 metres. A function area_circle has been loaded for your convenience.\n",
    "#### Warning: Make sure to use the name of the function given in the instructions.\n",
    "\n"
   ]
  },
  {
   "cell_type": "code",
   "execution_count": 25,
   "id": "fa372f11",
   "metadata": {},
   "outputs": [],
   "source": [
    "def area_circle(radius):\n",
    "    return math.pi * radius ** 2\n",
    "\n"
   ]
  },
  {
   "cell_type": "code",
   "execution_count": 13,
   "id": "c784fb1f",
   "metadata": {},
   "outputs": [
    {
     "ename": "TypeError",
     "evalue": "unsupported operand type(s) for *: 'function' and 'int'",
     "output_type": "error",
     "traceback": [
      "\u001b[0;31m---------------------------------------------------------------------------\u001b[0m",
      "\u001b[0;31mTypeError\u001b[0m                                 Traceback (most recent call last)",
      "\u001b[0;32m/var/folders/yn/bgdm1mhs37b6r_38shjd1v5c0000gn/T/ipykernel_7821/3891617649.py\u001b[0m in \u001b[0;36m<module>\u001b[0;34m\u001b[0m\n\u001b[1;32m      7\u001b[0m     \u001b[0;32mreturn\u001b[0m \u001b[0mmath\u001b[0m\u001b[0;34m.\u001b[0m\u001b[0mpi\u001b[0m\u001b[0;34m*\u001b[0m\u001b[0mradius\u001b[0m\u001b[0;34m**\u001b[0m\u001b[0;36m2\u001b[0m\u001b[0;34m\u001b[0m\u001b[0;34m\u001b[0m\u001b[0m\n\u001b[1;32m      8\u001b[0m \u001b[0;34m\u001b[0m\u001b[0m\n\u001b[0;32m----> 9\u001b[0;31m \u001b[0mvolume\u001b[0m \u001b[0;34m=\u001b[0m \u001b[0marea_circle\u001b[0m \u001b[0;34m*\u001b[0m\u001b[0;36m2\u001b[0m\u001b[0;34m\u001b[0m\u001b[0;34m\u001b[0m\u001b[0m\n\u001b[0m\u001b[1;32m     10\u001b[0m \u001b[0mprint\u001b[0m\u001b[0;34m(\u001b[0m\u001b[0mvolume\u001b[0m\u001b[0;34m)\u001b[0m\u001b[0;34m\u001b[0m\u001b[0;34m\u001b[0m\u001b[0m\n",
      "\u001b[0;31mTypeError\u001b[0m: unsupported operand type(s) for *: 'function' and 'int'"
     ]
    }
   ],
   "source": [
    "import math\n",
    "\n",
    "def radius(diameter):\n",
    "    return diameter/2\n",
    "\n",
    "def area_circle(radius):\n",
    "    return math.pi*radius**2\n",
    "\n",
    "volume = area_circle *2\n",
    "print(volume)"
   ]
  },
  {
   "cell_type": "code",
   "execution_count": 10,
   "id": "46bd18be",
   "metadata": {},
   "outputs": [
    {
     "data": {
      "text/plain": [
       "False"
      ]
     },
     "execution_count": 10,
     "metadata": {},
     "output_type": "execute_result"
    }
   ],
   "source": [
    "a = 2\n",
    "b = 4\n",
    "\n",
    "def a_bigger(a, b):\n",
    "  if a > b and (a - b) >= 2:\n",
    "    return True\n",
    "  else:\n",
    "    return False\n",
    "a_bigger(a,b)\n"
   ]
  },
  {
   "cell_type": "code",
   "execution_count": 1,
   "id": "46803722",
   "metadata": {},
   "outputs": [
    {
     "data": {
      "text/plain": [
       "2"
      ]
     },
     "execution_count": 1,
     "metadata": {},
     "output_type": "execute_result"
    }
   ],
   "source": [
    "len((\"disco\",10))"
   ]
  },
  {
   "cell_type": "code",
   "execution_count": 3,
   "id": "3480f207",
   "metadata": {},
   "outputs": [
    {
     "data": {
      "text/plain": [
       "tuple"
      ]
     },
     "execution_count": 3,
     "metadata": {},
     "output_type": "execute_result"
    }
   ],
   "source": [
    "type((\"disco\",10))"
   ]
  },
  {
   "cell_type": "code",
   "execution_count": null,
   "id": "98182b1a",
   "metadata": {},
   "outputs": [],
   "source": []
  },
  {
   "cell_type": "code",
   "execution_count": null,
   "id": "b1a05c09",
   "metadata": {},
   "outputs": [],
   "source": []
  },
  {
   "cell_type": "code",
   "execution_count": 7,
   "id": "736dedc5",
   "metadata": {},
   "outputs": [
    {
     "data": {
      "text/plain": [
       "['orange', 'orange', 'purple']"
      ]
     },
     "execution_count": 7,
     "metadata": {},
     "output_type": "execute_result"
    }
   ],
   "source": [
    "squares = ['orange', 'orange', 'purple', 'blue', 'orange']\n",
    "new_squares = []\n",
    "i=0\n",
    "while squares[i] != \"blue\":\n",
    "    new_squares.append(squares[i])\n",
    "    i=i+1\n",
    "new_squares"
   ]
  },
  {
   "cell_type": "code",
   "execution_count": 2,
   "id": "7186ce56",
   "metadata": {},
   "outputs": [
    {
     "name": "stdout",
     "output_type": "stream",
     "text": [
      "10\n",
      "7\n",
      "12\n"
     ]
    }
   ],
   "source": [
    "def grocery_cart(price_of_apples, **prices_of_other_fruits):\n",
    "    print(price_of_apples)\n",
    "    for value in prices_of_other_fruits.values():\n",
    "        print(value)\n",
    "\n",
    "grocery_cart(price_of_apples = 10, price_of_oranges = 7, price_of_carrots = 12)"
   ]
  },
  {
   "cell_type": "code",
   "execution_count": null,
   "id": "121b22fb",
   "metadata": {},
   "outputs": [],
   "source": []
  },
  {
   "cell_type": "code",
   "execution_count": null,
   "id": "744b1377",
   "metadata": {},
   "outputs": [],
   "source": []
  }
 ],
 "metadata": {
  "hide_input": false,
  "kernelspec": {
   "display_name": "Python 3 (ipykernel)",
   "language": "python",
   "name": "python3"
  },
  "language_info": {
   "codemirror_mode": {
    "name": "ipython",
    "version": 3
   },
   "file_extension": ".py",
   "mimetype": "text/x-python",
   "name": "python",
   "nbconvert_exporter": "python",
   "pygments_lexer": "ipython3",
   "version": "3.9.7"
  },
  "varInspector": {
   "cols": {
    "lenName": 16,
    "lenType": 16,
    "lenVar": 40
   },
   "kernels_config": {
    "python": {
     "delete_cmd_postfix": "",
     "delete_cmd_prefix": "del ",
     "library": "var_list.py",
     "varRefreshCmd": "print(var_dic_list())"
    },
    "r": {
     "delete_cmd_postfix": ") ",
     "delete_cmd_prefix": "rm(",
     "library": "var_list.r",
     "varRefreshCmd": "cat(var_dic_list()) "
    }
   },
   "types_to_exclude": [
    "module",
    "function",
    "builtin_function_or_method",
    "instance",
    "_Feature"
   ],
   "window_display": false
  }
 },
 "nbformat": 4,
 "nbformat_minor": 5
}
