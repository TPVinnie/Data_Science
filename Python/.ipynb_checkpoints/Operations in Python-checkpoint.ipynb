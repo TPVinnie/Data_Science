{
 "cells": [
  {
   "cell_type": "markdown",
   "id": "0f685311",
   "metadata": {},
   "source": [
    "# <CENTER><font color=red size=36>OPERATIONS IN PYTHON<font><CENTER>"
   ]
  },
  {
   "cell_type": "markdown",
   "id": "dc8f5b64",
   "metadata": {},
   "source": [
    "# Logical Operators \"AND\", \"OR, and \"XOR\"."
   ]
  },
  {
   "cell_type": "code",
   "execution_count": 49,
   "id": "5e112350",
   "metadata": {
    "collapsed": true
   },
   "outputs": [
    {
     "name": "stdout",
     "output_type": "stream",
     "text": [
      "600\n"
     ]
    }
   ],
   "source": [
    "x = 200\n",
    "y = 600\n",
    "print(x and y)"
   ]
  },
  {
   "cell_type": "code",
   "execution_count": 50,
   "id": "01fdab3b",
   "metadata": {
    "collapsed": true
   },
   "outputs": [
    {
     "name": "stdout",
     "output_type": "stream",
     "text": [
      "200\n",
      "200\n"
     ]
    }
   ],
   "source": [
    "x = 200\n",
    "y = 600\n",
    "print(x or y)\n",
    "print(x)"
   ]
  },
  {
   "cell_type": "markdown",
   "id": "fd5067a1",
   "metadata": {},
   "source": [
    "https://youtu.be/K47w0cpRLt4\n",
    "\n",
    "https://youtu.be/9w992l9TFIs"
   ]
  },
  {
   "cell_type": "markdown",
   "id": "50b4f24d",
   "metadata": {},
   "source": [
    "# Math Operations"
   ]
  },
  {
   "cell_type": "code",
   "execution_count": null,
   "id": "f2ec4f56",
   "metadata": {
    "collapsed": true
   },
   "outputs": [],
   "source": [
    "print(2 ** 3)  # power operation\n",
    "print(14 // 3)  # integer division operation\n",
    "print(14 % 3)   # modulus operation"
   ]
  },
  {
   "cell_type": "markdown",
   "id": "3d9338a9",
   "metadata": {},
   "source": [
    "### Eggsactly"
   ]
  },
  {
   "cell_type": "code",
   "execution_count": null,
   "id": "9bfe9937",
   "metadata": {
    "collapsed": true
   },
   "outputs": [],
   "source": [
    "'''Egg cartons each hold exactly 12 eggs. \n",
    "Write a program which reads an integer number of eggs from input(), then prints out two numbers: \n",
    "(a)how many cartons can be filled by these eggs, and \n",
    "(b)how many eggs will be left over.'''\n",
    "\n",
    "eggs = int(input())\n",
    "\n",
    "print(eggs // 12)\n",
    "print(eggs % 12)"
   ]
  },
  {
   "cell_type": "code",
   "execution_count": null,
   "id": "a5bddee6",
   "metadata": {
    "collapsed": true
   },
   "outputs": [],
   "source": [
    "''' Write a program that reads two positive integers a and b on separate lines. \n",
    "If a is divisible by b, print the message \"divisible\". Otherwise, print the message \"not divisible\".'''\n",
    "\n",
    "\n",
    "a = int(input(\"a:\"))\n",
    "b = int(input(\"b:\"))\n",
    "if a % b == 0:\n",
    "    print(\"divisible\")\n",
    "else:\n",
    "    print(\"not divisible\")"
   ]
  },
  {
   "cell_type": "markdown",
   "id": "0002c8dc",
   "metadata": {},
   "source": [
    "## Functions vs. Methods\n",
    " \n",
    " - Note the difference between functions and methods in Python: \n",
    "    * Methods are called after object, after \".\": i.e.: Object.method. {eg: math.pi}. \n",
    "    * Functions are called before the object, before (): i.e.: Function(Object) {eg: sin(a)}. [See youTube Video](https://youtu.be/HmpUvZ8LJjA)\n",
    " "
   ]
  },
  {
   "cell_type": "code",
   "execution_count": 52,
   "id": "be4fb0c7",
   "metadata": {
    "collapsed": true
   },
   "outputs": [
    {
     "name": "stdout",
     "output_type": "stream",
     "text": [
      "[10, 9, 8, 7, 6, 5, 4, 3, 2, 1]\n"
     ]
    }
   ],
   "source": [
    "a = [1, 2, 3, 4, 5, 6, 7, 8, 9, 10]\n",
    "a.reverse()\n",
    "print(a)"
   ]
  },
  {
   "cell_type": "code",
   "execution_count": 53,
   "id": "9fa45787",
   "metadata": {
    "collapsed": true
   },
   "outputs": [
    {
     "name": "stdout",
     "output_type": "stream",
     "text": [
      "HELLO WORLD\n"
     ]
    }
   ],
   "source": [
    "helloworld = \"Hello World\"\n",
    "\n",
    "print(helloworld.upper())"
   ]
  },
  {
   "cell_type": "code",
   "execution_count": 54,
   "id": "56a8ffde",
   "metadata": {
    "collapsed": true
   },
   "outputs": [
    {
     "data": {
      "text/plain": [
       "['Adam', 'Jerry', 'John', 'Kim', 'Penn']"
      ]
     },
     "execution_count": 54,
     "metadata": {},
     "output_type": "execute_result"
    }
   ],
   "source": [
    "boy_names = [\"John\", \"Jerry\", \"Kim\", \"Penn\", \"Adam\"]\n",
    "\n",
    "boy_names.sort()\n",
    "boy_names"
   ]
  },
  {
   "cell_type": "code",
   "execution_count": 55,
   "id": "47ebb9e1",
   "metadata": {
    "collapsed": true
   },
   "outputs": [
    {
     "name": "stdout",
     "output_type": "stream",
     "text": [
      "['Adam', 'Jerry', 'John', 'Kim', 'Penn', 'Gregory']\n"
     ]
    }
   ],
   "source": [
    "boy_names.append(\"Gregory\")\n",
    "print(boy_names)"
   ]
  },
  {
   "cell_type": "code",
   "execution_count": 56,
   "id": "da8f518f",
   "metadata": {
    "collapsed": true
   },
   "outputs": [
    {
     "data": {
      "text/plain": [
       "['Adam', 'Gregory', 'Jerry', 'John', 'Kim', 'Penn']"
      ]
     },
     "execution_count": 56,
     "metadata": {},
     "output_type": "execute_result"
    }
   ],
   "source": [
    "sorted(boy_names)"
   ]
  },
  {
   "cell_type": "code",
   "execution_count": 57,
   "id": "e18c37bc",
   "metadata": {
    "collapsed": true
   },
   "outputs": [
    {
     "name": "stdout",
     "output_type": "stream",
     "text": [
      "['Adam', 'Jerry', 'George', 'John', 'Kim', 'Penn', 'Gregory']\n"
     ]
    }
   ],
   "source": [
    "boy_names.insert(2, \"George\")\n",
    "\n",
    "print(boy_names)"
   ]
  },
  {
   "cell_type": "code",
   "execution_count": 60,
   "id": "a18aca9a",
   "metadata": {
    "collapsed": true
   },
   "outputs": [
    {
     "data": {
      "text/plain": [
       "1"
      ]
     },
     "execution_count": 60,
     "metadata": {},
     "output_type": "execute_result"
    }
   ],
   "source": [
    "boy_names.count(\"Adam\")"
   ]
  },
  {
   "cell_type": "code",
   "execution_count": 63,
   "id": "94c52fcf",
   "metadata": {
    "collapsed": true
   },
   "outputs": [
    {
     "name": "stdout",
     "output_type": "stream",
     "text": [
      "7\n"
     ]
    }
   ],
   "source": [
    "print(len(boy_names))"
   ]
  },
  {
   "cell_type": "code",
   "execution_count": 67,
   "id": "67b88195",
   "metadata": {
    "collapsed": true
   },
   "outputs": [
    {
     "data": {
      "text/plain": [
       "['Adam', 'George', 'Gregory', 'Jerry', 'John', 'Kim', 'Penn']"
      ]
     },
     "execution_count": 67,
     "metadata": {},
     "output_type": "execute_result"
    }
   ],
   "source": [
    "sorted(boy_names)\n",
    "boy_names"
   ]
  },
  {
   "cell_type": "code",
   "execution_count": 68,
   "id": "4cbab0b3",
   "metadata": {
    "collapsed": true
   },
   "outputs": [
    {
     "data": {
      "text/plain": [
       "'Penn'"
      ]
     },
     "execution_count": 68,
     "metadata": {},
     "output_type": "execute_result"
    }
   ],
   "source": [
    "max(boy_names)"
   ]
  },
  {
   "cell_type": "code",
   "execution_count": 69,
   "id": "8f12b9c9",
   "metadata": {
    "collapsed": true
   },
   "outputs": [
    {
     "data": {
      "text/plain": [
       "'Adam'"
      ]
     },
     "execution_count": 69,
     "metadata": {},
     "output_type": "execute_result"
    }
   ],
   "source": [
    "min(boy_names)"
   ]
  },
  {
   "cell_type": "code",
   "execution_count": 71,
   "id": "5bc56420",
   "metadata": {
    "collapsed": true
   },
   "outputs": [
    {
     "data": {
      "text/plain": [
       "78"
      ]
     },
     "execution_count": 71,
     "metadata": {},
     "output_type": "execute_result"
    }
   ],
   "source": [
    "max([45, 8, 78, 76, 34, 9, 34])"
   ]
  },
  {
   "cell_type": "markdown",
   "id": "0205cac3",
   "metadata": {},
   "source": [
    "## Math Functions"
   ]
  },
  {
   "cell_type": "markdown",
   "id": "8e4b2980",
   "metadata": {},
   "source": [
    " - Most functions on a scientific calculator are also available in python. These include:\n",
    "   - sqrt(x): computes the square root of the number x\n",
    "   - exp(x) and log(x): the exponential and natural logarithmic functions.\n",
    "   - sin(x), cos(x), tan(x) and other trigonometric functions are available. NB: Angle must be in radians, not degrees.\n",
    " \n",
    " #### NB: Before using math functions, import the math module using the command:  import math\n",
    "   "
   ]
  },
  {
   "cell_type": "code",
   "execution_count": 73,
   "id": "b54f0f63",
   "metadata": {
    "collapsed": true
   },
   "outputs": [],
   "source": [
    "# Import math funtions in a notebook\n",
    "\n",
    "import math"
   ]
  },
  {
   "cell_type": "code",
   "execution_count": 84,
   "id": "61252749",
   "metadata": {
    "collapsed": true
   },
   "outputs": [
    {
     "data": {
      "text/plain": [
       "3.141592653589793"
      ]
     },
     "execution_count": 84,
     "metadata": {},
     "output_type": "execute_result"
    }
   ],
   "source": [
    "# evaluate the value of pi\n",
    "\n",
    "math.pi"
   ]
  },
  {
   "cell_type": "code",
   "execution_count": 86,
   "id": "28b9431d",
   "metadata": {
    "collapsed": true
   },
   "outputs": [
    {
     "data": {
      "text/plain": [
       "2.718281828459045"
      ]
     },
     "execution_count": 86,
     "metadata": {},
     "output_type": "execute_result"
    }
   ],
   "source": [
    "# evaluate the value of e.\n",
    "\n",
    "math.exp(1)"
   ]
  },
  {
   "cell_type": "code",
   "execution_count": 88,
   "id": "40812214",
   "metadata": {
    "collapsed": true
   },
   "outputs": [
    {
     "data": {
      "text/plain": [
       "1.7320508075688772"
      ]
     },
     "execution_count": 88,
     "metadata": {},
     "output_type": "execute_result"
    }
   ],
   "source": [
    "# evaluate the square root of 3\n",
    "\n",
    "math.sqrt(3)"
   ]
  },
  {
   "cell_type": "code",
   "execution_count": 89,
   "id": "483e8254",
   "metadata": {
    "collapsed": true
   },
   "outputs": [
    {
     "data": {
      "text/plain": [
       "1.0986122886681098"
      ]
     },
     "execution_count": 89,
     "metadata": {},
     "output_type": "execute_result"
    }
   ],
   "source": [
    "# evaluate the value Ln(3)\n",
    "\n",
    "math.log(3)\n"
   ]
  },
  {
   "cell_type": "code",
   "execution_count": 98,
   "id": "5ea7440b",
   "metadata": {
    "collapsed": true
   },
   "outputs": [
    {
     "data": {
      "text/plain": [
       "1.7320508075688767"
      ]
     },
     "execution_count": 98,
     "metadata": {},
     "output_type": "execute_result"
    }
   ],
   "source": [
    "# evaluate the value of tan(pi/3) NB\n",
    "\n",
    "math.tan(math.pi/3)"
   ]
  },
  {
   "cell_type": "code",
   "execution_count": 78,
   "id": "d750a64f",
   "metadata": {
    "collapsed": true
   },
   "outputs": [
    {
     "name": "stdout",
     "output_type": "stream",
     "text": [
      "radius= 3\n",
      "Area =  28.274333882308138\n"
     ]
    }
   ],
   "source": [
    "# return the area of a circle with user imput of radius\n",
    "\n",
    "import math\n",
    "\n",
    "radius =float(input(\"radius= \"))\n",
    "circle_area=math.pi*radius**2\n",
    "\n",
    "print(\"Area = \",circle_area)"
   ]
  },
  {
   "cell_type": "markdown",
   "id": "f860eec9",
   "metadata": {},
   "source": [
    "### Order of operations: BEDMAS"
   ]
  },
  {
   "cell_type": "code",
   "execution_count": 95,
   "id": "dffe98b3",
   "metadata": {
    "collapsed": true
   },
   "outputs": [
    {
     "data": {
      "text/plain": [
       "3"
      ]
     },
     "execution_count": 95,
     "metadata": {},
     "output_type": "execute_result"
    }
   ],
   "source": [
    "# Before running the following codes, think about the output.\n",
    "\n",
    "3 * (1 + 2) ** 2 % 4"
   ]
  },
  {
   "cell_type": "code",
   "execution_count": 94,
   "id": "502d782b",
   "metadata": {
    "collapsed": true
   },
   "outputs": [
    {
     "data": {
      "text/plain": [
       "4"
      ]
     },
     "execution_count": 94,
     "metadata": {},
     "output_type": "execute_result"
    }
   ],
   "source": [
    "6 - 52 // 5 ** 2 * 3"
   ]
  },
  {
   "cell_type": "code",
   "execution_count": 96,
   "id": "d5e96074",
   "metadata": {
    "collapsed": true
   },
   "outputs": [
    {
     "data": {
      "text/plain": [
       "(-4, -3)"
      ]
     },
     "execution_count": 96,
     "metadata": {},
     "output_type": "execute_result"
    }
   ],
   "source": [
    "(-10) // 3, int((-10) / 3)"
   ]
  },
  {
   "cell_type": "code",
   "execution_count": 97,
   "id": "a235091e",
   "metadata": {
    "collapsed": true
   },
   "outputs": [
    {
     "data": {
      "text/plain": [
       "(-6, -6)"
      ]
     },
     "execution_count": 97,
     "metadata": {},
     "output_type": "execute_result"
    }
   ],
   "source": [
    "(-12) // 2, int((-12) / 2)"
   ]
  },
  {
   "cell_type": "code",
   "execution_count": 99,
   "id": "1fa1bb87",
   "metadata": {
    "collapsed": true
   },
   "outputs": [
    {
     "name": "stdout",
     "output_type": "stream",
     "text": [
      "False\n",
      "2.0000000000000004\n"
     ]
    }
   ],
   "source": [
    "# Run the following code and try to explain why the result is what it is.\n",
    "\n",
    "import math\n",
    "s = math.sqrt(2) * math.sqrt(2)\n",
    "print(s == 2)\n",
    "print(s)"
   ]
  },
  {
   "cell_type": "code",
   "execution_count": 100,
   "id": "5101fbc2",
   "metadata": {
    "collapsed": true
   },
   "outputs": [
    {
     "name": "stdout",
     "output_type": "stream",
     "text": [
      "1\n",
      "14.881290196721398\n"
     ]
    }
   ],
   "source": []
  },
  {
   "cell_type": "code",
   "execution_count": null,
   "id": "54ce8a25",
   "metadata": {
    "collapsed": true
   },
   "outputs": [],
   "source": []
  }
 ],
 "metadata": {
  "kernelspec": {
   "display_name": "Python 3 (ipykernel)",
   "language": "python",
   "name": "python3"
  },
  "language_info": {
   "codemirror_mode": {
    "name": "ipython",
    "version": 3
   },
   "file_extension": ".py",
   "mimetype": "text/x-python",
   "name": "python",
   "nbconvert_exporter": "python",
   "pygments_lexer": "ipython3",
   "version": "3.9.7"
  }
 },
 "nbformat": 4,
 "nbformat_minor": 5
}
