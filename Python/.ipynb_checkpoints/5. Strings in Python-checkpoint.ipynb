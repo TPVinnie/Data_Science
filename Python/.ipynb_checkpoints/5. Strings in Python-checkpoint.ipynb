{
 "cells": [
  {
   "cell_type": "markdown",
   "id": "865a12a4",
   "metadata": {},
   "source": [
    "#  <center><font color=red size=36>5. STRINGS IN PYTHON<FONT>"
   ]
  },
  {
   "cell_type": "markdown",
   "id": "21e10cd8",
   "metadata": {},
   "source": [
    "## <center>[Here is a good lesson on Strings](https://cscircles.cemc.uwaterloo.ca/7a-strings/)"
   ]
  },
  {
   "cell_type": "code",
   "execution_count": 163,
   "id": "1e76dbe3",
   "metadata": {},
   "outputs": [
    {
     "name": "stdout",
     "output_type": "stream",
     "text": [
      "The string literal is most used in Python. Or is it?!\n"
     ]
    }
   ],
   "source": [
    "print(\"The string literal is most used in Python. Or is it?!\")"
   ]
  },
  {
   "cell_type": "code",
   "execution_count": 18,
   "id": "d1b2e8a8",
   "metadata": {},
   "outputs": [
    {
     "name": "stdout",
     "output_type": "stream",
     "text": [
      "You can do many amazing things with strings\n"
     ]
    }
   ],
   "source": [
    "print(\"You can do many amazing things with strings\")"
   ]
  },
  {
   "cell_type": "code",
   "execution_count": 96,
   "id": "ba73f403",
   "metadata": {},
   "outputs": [
    {
     "name": "stdout",
     "output_type": "stream",
     "text": [
      "You can add text and numbers as strings 12. The 12 here is of type \"str\".\n"
     ]
    }
   ],
   "source": [
    "print(\"You can add text and numbers as strings\" + \" 12\" + \". \" + \"The 12 here is of type \\\"str\\\".\")"
   ]
  },
  {
   "cell_type": "markdown",
   "id": "89d62c96",
   "metadata": {},
   "source": [
    "## Multiplying a string by a number"
   ]
  },
  {
   "cell_type": "code",
   "execution_count": 97,
   "id": "6075e759",
   "metadata": {},
   "outputs": [
    {
     "name": "stdout",
     "output_type": "stream",
     "text": [
      "You can repeat a string five times. You can repeat a string five times. You can repeat a string five times. You can repeat a string five times. You can repeat a string five times. \n"
     ]
    }
   ],
   "source": [
    "# Effect of multiplying a str by a number\n",
    "\n",
    "print(\"You can repeat a string five times. \" *5)"
   ]
  },
  {
   "cell_type": "markdown",
   "id": "b71a0adf",
   "metadata": {},
   "source": [
    "## Slicing strings"
   ]
  },
  {
   "cell_type": "code",
   "execution_count": 99,
   "id": "730a1f27",
   "metadata": {},
   "outputs": [
    {
     "name": "stdout",
     "output_type": "stream",
     "text": [
      "Hello, this  is a string  that I want to slic\n"
     ]
    }
   ],
   "source": [
    "# Slicing a string\n",
    "\n",
    "my_str=\"Hello, this is a string that I want to slice\"\n",
    "my_sliced_str1 = my_str[0:11]\n",
    "my_sliced_str2 = my_str[11:23]\n",
    "my_sliced_str3 = my_str[23:-1]\n",
    "\n",
    "\n",
    "print(my_sliced_str1,my_sliced_str2,my_sliced_str3)"
   ]
  },
  {
   "cell_type": "code",
   "execution_count": 100,
   "id": "d35c43b7",
   "metadata": {},
   "outputs": [
    {
     "name": "stdout",
     "output_type": "stream",
     "text": [
      "13579\n"
     ]
    }
   ],
   "source": [
    "my_str4 = \"1234567890\"\n",
    "\n",
    "print(my_str1[0:-1:2])  # I'm trying to pring all odd numbers by slicing. It doesn't work! How to add commas?"
   ]
  },
  {
   "cell_type": "code",
   "execution_count": 104,
   "id": "d85b79e8",
   "metadata": {},
   "outputs": [
    {
     "name": "stdout",
     "output_type": "stream",
     "text": [
      "This is a poem: \n",
      " Once upon a time \n",
      " There live a man in the woods \n",
      " He loved poems \n"
     ]
    }
   ],
   "source": [
    "print(\"This is a poem: \\n Once upon a time \\n There live a man in the woods \\n He loved poems \")"
   ]
  },
  {
   "cell_type": "markdown",
   "id": "b91a1702",
   "metadata": {},
   "source": [
    "### NB: the length of the substring S[i:j] is always j-i"
   ]
  },
  {
   "cell_type": "markdown",
   "id": "7ce19d11",
   "metadata": {},
   "source": [
    "## Concatenating strings"
   ]
  },
  {
   "cell_type": "code",
   "execution_count": 23,
   "id": "526b6736",
   "metadata": {},
   "outputs": [
    {
     "name": "stdout",
     "output_type": "stream",
     "text": [
      "Python is a wonderful language. But, I can't speak it.\n"
     ]
    }
   ],
   "source": [
    "# Concatenating strings\n",
    "\n",
    "\n",
    "my_str5 =\"Python is a\"\n",
    "my_str6 =  \" wonderful language.\"\n",
    "my_str7 = \" But, I can't speak it.\"\n",
    "\n",
    "conca_str = my_str5 + my_str6 +my_str7   # This must be a long way to concatenate. Is there a short, quicker way?\n",
    "print(conca_str)"
   ]
  },
  {
   "cell_type": "markdown",
   "id": "efff460b",
   "metadata": {},
   "source": [
    "## Length of a string"
   ]
  },
  {
   "cell_type": "code",
   "execution_count": 106,
   "id": "5dabe269",
   "metadata": {},
   "outputs": [
    {
     "name": "stdout",
     "output_type": "stream",
     "text": [
      "54\n"
     ]
    }
   ],
   "source": [
    "# Finding the length of a string\n",
    "\n",
    "my_str8 = \"Python is a wonderful language. But, I can't speak it.\"\n",
    "\n",
    "print(len(my_str8))"
   ]
  },
  {
   "cell_type": "markdown",
   "id": "ab2e2090",
   "metadata": {},
   "source": [
    "## Checking sub-string"
   ]
  },
  {
   "cell_type": "code",
   "execution_count": 49,
   "id": "4dd2f839",
   "metadata": {},
   "outputs": [
    {
     "data": {
      "text/plain": [
       "True"
      ]
     },
     "execution_count": 49,
     "metadata": {},
     "output_type": "execute_result"
    }
   ],
   "source": [
    "my_str8 = \"Python is a wonderful language. But, I can't speak it.\"\n",
    "\n",
    "\n",
    "\"Python\" in my_str8\n"
   ]
  },
  {
   "cell_type": "code",
   "execution_count": 52,
   "id": "6312f92f",
   "metadata": {},
   "outputs": [
    {
     "data": {
      "text/plain": [
       "False"
      ]
     },
     "execution_count": 52,
     "metadata": {},
     "output_type": "execute_result"
    }
   ],
   "source": [
    "my_str8 = \"Python is a wonderful language. But, I can't speak it.\"\n",
    "\n",
    "\n",
    "\"Python\" not in my_str8"
   ]
  },
  {
   "cell_type": "code",
   "execution_count": 53,
   "id": "614b0088",
   "metadata": {},
   "outputs": [
    {
     "data": {
      "text/plain": [
       "True"
      ]
     },
     "execution_count": 53,
     "metadata": {},
     "output_type": "execute_result"
    }
   ],
   "source": [
    "my_str8 = \"Python is a wonderful language. But, I can't speak it.\"\n",
    "\n",
    "\n",
    "\"python\" not in my_str8 # membership checking is case sensitive"
   ]
  },
  {
   "cell_type": "code",
   "execution_count": 50,
   "id": "d5a80dbd",
   "metadata": {},
   "outputs": [
    {
     "data": {
      "text/plain": [
       "False"
      ]
     },
     "execution_count": 50,
     "metadata": {},
     "output_type": "execute_result"
    }
   ],
   "source": [
    "my_str8 = \"Python is a wonderful language. But, I can't speak it.\"\n",
    "\n",
    "\n",
    "\"python\" in my_str8   ## membership checking is case sensitive"
   ]
  },
  {
   "cell_type": "code",
   "execution_count": 47,
   "id": "a0e6b768",
   "metadata": {},
   "outputs": [
    {
     "data": {
      "text/plain": [
       "False"
      ]
     },
     "execution_count": 47,
     "metadata": {},
     "output_type": "execute_result"
    }
   ],
   "source": [
    "my_str8 = \"Python is a wonderful language. But, I can't speak it.\"\n",
    "\n",
    "\n",
    "\"Can't\" in my_str8   ## membership checking is case sensitive"
   ]
  },
  {
   "cell_type": "code",
   "execution_count": 35,
   "id": "dcb45994",
   "metadata": {},
   "outputs": [
    {
     "name": "stdout",
     "output_type": "stream",
     "text": [
      "Python is in my string\n"
     ]
    }
   ],
   "source": [
    "# Checking membership in a string\n",
    "\n",
    "my_str8 = \"Python is a wonderful language. But, I can't speak it.\"\n",
    "\n",
    "if \"Python\" in my_str8:\n",
    "    print(\"Python is in my string\")\n",
    "else:\n",
    "    print(\"Python is not in my string\")"
   ]
  },
  {
   "cell_type": "code",
   "execution_count": 108,
   "id": "e20f6a93",
   "metadata": {},
   "outputs": [
    {
     "name": "stdout",
     "output_type": "stream",
     "text": [
      "python is not in my string\n"
     ]
    }
   ],
   "source": [
    "my_str8 = \"Python is a wonderful language. But, I can't speak it.\"\n",
    "\n",
    "if \"python\" in my_str8:\n",
    "    print(\"python is in my string\")\n",
    "else:\n",
    "    print(\"python is not in my string\")   # membership checking is case sensitive"
   ]
  },
  {
   "cell_type": "markdown",
   "id": "50c98a06",
   "metadata": {},
   "source": [
    "## Comparing content of two strings"
   ]
  },
  {
   "cell_type": "code",
   "execution_count": 109,
   "id": "7f3abdc7",
   "metadata": {},
   "outputs": [
    {
     "data": {
      "text/plain": [
       "False"
      ]
     },
     "execution_count": 109,
     "metadata": {},
     "output_type": "execute_result"
    }
   ],
   "source": [
    "# Using == to compare\n",
    "\n",
    "my_str8 = \"Python is a wonderful language.\"\n",
    "my_str9 = \"python is a wonderful language.\"\n",
    "\n",
    "my_str8 == my_str9   ## False because Python is in lowercase in one of the strings. Sytrings are case sensitive"
   ]
  },
  {
   "cell_type": "code",
   "execution_count": 122,
   "id": "690d237f",
   "metadata": {},
   "outputs": [
    {
     "data": {
      "text/plain": [
       "True"
      ]
     },
     "execution_count": 122,
     "metadata": {},
     "output_type": "execute_result"
    }
   ],
   "source": [
    "# Using \"is\" to compare\n",
    "\n",
    "my_1 = \"Hello\"\n",
    "my_2 = \"Hello\"\n",
    "my_1 is my_2"
   ]
  },
  {
   "cell_type": "code",
   "execution_count": 126,
   "id": "4f1a54d6",
   "metadata": {},
   "outputs": [
    {
     "data": {
      "text/plain": [
       "False"
      ]
     },
     "execution_count": 126,
     "metadata": {},
     "output_type": "execute_result"
    }
   ],
   "source": [
    "# \"is\" is Always false if there is space? YES\n",
    "\n",
    "my_1 = \"Hello \"\n",
    "my_2 = \"Hello \"\n",
    "my_1 is my_2"
   ]
  },
  {
   "cell_type": "code",
   "execution_count": 125,
   "id": "bd29cb50",
   "metadata": {},
   "outputs": [
    {
     "data": {
      "text/plain": [
       "True"
      ]
     },
     "execution_count": 125,
     "metadata": {},
     "output_type": "execute_result"
    }
   ],
   "source": [
    "# \"is\" is Always false if there is space? YES\n",
    "\n",
    "my_1 = \"Python_is_a_beautiful_language\"\n",
    "my_2 = \"Python_is_a_beautiful_language\"\n",
    "my_1 is my_2"
   ]
  },
  {
   "cell_type": "code",
   "execution_count": 127,
   "id": "b066a11e",
   "metadata": {},
   "outputs": [
    {
     "data": {
      "text/plain": [
       "True"
      ]
     },
     "execution_count": 127,
     "metadata": {},
     "output_type": "execute_result"
    }
   ],
   "source": [
    "# == is Always false if there is space? NO\n",
    "\n",
    "my_1 = \"Hello \"\n",
    "my_2 = \"Hello \"\n",
    "my_1 == my_2"
   ]
  },
  {
   "cell_type": "code",
   "execution_count": 65,
   "id": "c6dbed36",
   "metadata": {},
   "outputs": [
    {
     "name": "stdout",
     "output_type": "stream",
     "text": [
      "The length of my string8 is  54 and the length of my string9 is 54 .\n"
     ]
    }
   ],
   "source": [
    "my_str8 = \"Python is a wonderful language. But, I can't speak it.\"\n",
    "my_str9 = \"python is a wonderful language. But, I can't speak it.\"\n",
    "\n",
    "print(\"The length of my string8 is \",len(my_str8),\"and the length of my string9 is\",len(my_str9),\".\")"
   ]
  },
  {
   "cell_type": "markdown",
   "id": "10ce972e",
   "metadata": {},
   "source": [
    "## Counting substrings in a string"
   ]
  },
  {
   "cell_type": "code",
   "execution_count": 128,
   "id": "18144344",
   "metadata": {},
   "outputs": [
    {
     "data": {
      "text/plain": [
       "2"
      ]
     },
     "execution_count": 128,
     "metadata": {},
     "output_type": "execute_result"
    }
   ],
   "source": [
    "# Counting substrings in a string\n",
    "\n",
    "my_str8 = \"Python is a wonderful language. But, I can't speak it.\"\n",
    "\n",
    "my_str8.count(\"i\")"
   ]
  },
  {
   "cell_type": "code",
   "execution_count": 68,
   "id": "a1f2f1f5",
   "metadata": {},
   "outputs": [
    {
     "data": {
      "text/plain": [
       "2"
      ]
     },
     "execution_count": 68,
     "metadata": {},
     "output_type": "execute_result"
    }
   ],
   "source": [
    "my_str8 = \"Python is a wonderful language. But, I can't speak it.\"\n",
    "\n",
    "my_str8.count(\"on\")"
   ]
  },
  {
   "cell_type": "code",
   "execution_count": 69,
   "id": "6a650e03",
   "metadata": {},
   "outputs": [
    {
     "data": {
      "text/plain": [
       "3"
      ]
     },
     "execution_count": 69,
     "metadata": {},
     "output_type": "execute_result"
    }
   ],
   "source": [
    "my_str8 = \"Python is a wonderful language. But, I can't speak it.\"\n",
    "\n",
    "my_str8.count(\"e\")"
   ]
  },
  {
   "cell_type": "code",
   "execution_count": 70,
   "id": "8fef8af2",
   "metadata": {},
   "outputs": [
    {
     "data": {
      "text/plain": [
       "55"
      ]
     },
     "execution_count": 70,
     "metadata": {},
     "output_type": "execute_result"
    }
   ],
   "source": [
    "my_str8 = \"Python is a wonderful language. But, I can't speak it.\"\n",
    "\n",
    "my_str8.count(\"\")"
   ]
  },
  {
   "cell_type": "code",
   "execution_count": 72,
   "id": "7d66681a",
   "metadata": {},
   "outputs": [
    {
     "data": {
      "text/plain": [
       "7"
      ]
     },
     "execution_count": 72,
     "metadata": {},
     "output_type": "execute_result"
    }
   ],
   "source": [
    "my_str10 = \"Python\"\n",
    "\n",
    "my_str10.count(\"\") # Does .count give n+1 elements?"
   ]
  },
  {
   "cell_type": "code",
   "execution_count": 76,
   "id": "597c4af0",
   "metadata": {},
   "outputs": [
    {
     "name": "stdout",
     "output_type": "stream",
     "text": [
      "Python\n"
     ]
    }
   ],
   "source": [
    "# Stripping empty spaces at beginning and end of a string\n",
    "my_str11 = \" Python \"\n",
    "\n",
    "stripped_string = my_str11.strip()\n",
    "print(stripped_string)"
   ]
  },
  {
   "cell_type": "code",
   "execution_count": 79,
   "id": "6e6ab397",
   "metadata": {},
   "outputs": [
    {
     "data": {
      "text/plain": [
       "' Python'"
      ]
     },
     "execution_count": 79,
     "metadata": {},
     "output_type": "execute_result"
    }
   ],
   "source": [
    "my_str11 = \" Python \"\n",
    "\n",
    "my_str11.rstrip()"
   ]
  },
  {
   "cell_type": "code",
   "execution_count": 80,
   "id": "31b5ccd7",
   "metadata": {},
   "outputs": [
    {
     "data": {
      "text/plain": [
       "'Python '"
      ]
     },
     "execution_count": 80,
     "metadata": {},
     "output_type": "execute_result"
    }
   ],
   "source": [
    "my_str11 = \" Python \"\n",
    "\n",
    "my_str11.lstrip()"
   ]
  },
  {
   "cell_type": "code",
   "execution_count": 82,
   "id": "905cff8c",
   "metadata": {},
   "outputs": [
    {
     "data": {
      "text/plain": [
       "0"
      ]
     },
     "execution_count": 82,
     "metadata": {},
     "output_type": "execute_result"
    }
   ],
   "source": [
    "# Finding characters in a string\n",
    "\n",
    "my_str8 = \"Python is a wonderful language. But, I can't speak it.\"\n",
    "\n",
    "my_str8.find(\"Python\")"
   ]
  },
  {
   "cell_type": "code",
   "execution_count": 85,
   "id": "c86a70c2",
   "metadata": {},
   "outputs": [
    {
     "data": {
      "text/plain": [
       "-1"
      ]
     },
     "execution_count": 85,
     "metadata": {},
     "output_type": "execute_result"
    }
   ],
   "source": [
    "my_str8.find(\"H\") # find returns -1 if the character is not present"
   ]
  },
  {
   "cell_type": "code",
   "execution_count": 86,
   "id": "e9caabb8",
   "metadata": {},
   "outputs": [
    {
     "data": {
      "text/plain": [
       "0"
      ]
     },
     "execution_count": 86,
     "metadata": {},
     "output_type": "execute_result"
    }
   ],
   "source": [
    "my_str8.rfind(\"Python\")   # .rfind will find from the right"
   ]
  },
  {
   "cell_type": "code",
   "execution_count": 3,
   "id": "2c7792eb",
   "metadata": {},
   "outputs": [
    {
     "data": {
      "text/plain": [
       "7"
      ]
     },
     "execution_count": 3,
     "metadata": {},
     "output_type": "execute_result"
    }
   ],
   "source": [
    "my_str8 = \"Python is a wonderful language. But, I can't speak it.\"\n",
    "my_str8.index(\"is\")"
   ]
  },
  {
   "cell_type": "markdown",
   "id": "b57d18e2",
   "metadata": {},
   "source": [
    "## Reverse a string"
   ]
  },
  {
   "cell_type": "code",
   "execution_count": 5,
   "id": "7bb9471d",
   "metadata": {},
   "outputs": [
    {
     "name": "stdout",
     "output_type": "stream",
     "text": [
      "lufrednow\n"
     ]
    }
   ],
   "source": [
    "my_str12 = \"wonderful\"\n",
    "\n",
    "print(my_str12[-1::-1])"
   ]
  },
  {
   "cell_type": "code",
   "execution_count": 13,
   "id": "9f87c12a",
   "metadata": {},
   "outputs": [
    {
     "name": "stdout",
     "output_type": "stream",
     "text": [
      "w\n"
     ]
    }
   ],
   "source": [
    "my_str12 = \"wonderful\"\n",
    "\n",
    "print(my_str12[0::-1])"
   ]
  },
  {
   "cell_type": "code",
   "execution_count": null,
   "id": "0f67146b",
   "metadata": {},
   "outputs": [],
   "source": []
  },
  {
   "cell_type": "code",
   "execution_count": null,
   "id": "f7a65b09",
   "metadata": {},
   "outputs": [],
   "source": []
  },
  {
   "cell_type": "code",
   "execution_count": null,
   "id": "11a29add",
   "metadata": {},
   "outputs": [],
   "source": []
  },
  {
   "cell_type": "code",
   "execution_count": null,
   "id": "d7bcea56",
   "metadata": {},
   "outputs": [],
   "source": []
  },
  {
   "cell_type": "markdown",
   "id": "84d40e56",
   "metadata": {},
   "source": [
    "# Sorting strings & Lists"
   ]
  },
  {
   "cell_type": "code",
   "execution_count": 90,
   "id": "55f3b103",
   "metadata": {},
   "outputs": [
    {
     "data": {
      "text/plain": [
       "['d', 'e', 'f', 'l', 'n', 'o', 'r', 'u', 'w']"
      ]
     },
     "execution_count": 90,
     "metadata": {},
     "output_type": "execute_result"
    }
   ],
   "source": [
    "my_str12 = \"wonderful\"\n",
    "sorted(my_str12)"
   ]
  },
  {
   "cell_type": "code",
   "execution_count": 92,
   "id": "e889854c",
   "metadata": {},
   "outputs": [
    {
     "ename": "NameError",
     "evalue": "name 'sort' is not defined",
     "output_type": "error",
     "traceback": [
      "\u001b[0;31m---------------------------------------------------------------------------\u001b[0m",
      "\u001b[0;31mNameError\u001b[0m                                 Traceback (most recent call last)",
      "\u001b[0;32m/var/folders/yn/bgdm1mhs37b6r_38shjd1v5c0000gn/T/ipykernel_55431/3729147959.py\u001b[0m in \u001b[0;36m<module>\u001b[0;34m\u001b[0m\n\u001b[1;32m      1\u001b[0m \u001b[0mmy_list\u001b[0m \u001b[0;34m=\u001b[0m \u001b[0;34m[\u001b[0m\u001b[0;34m(\u001b[0m\u001b[0;36m1\u001b[0m\u001b[0;34m,\u001b[0m\u001b[0;36m4\u001b[0m\u001b[0;34m)\u001b[0m\u001b[0;34m,\u001b[0m\u001b[0;34m(\u001b[0m\u001b[0;36m7\u001b[0m\u001b[0;34m,\u001b[0m\u001b[0;36m4\u001b[0m\u001b[0;34m)\u001b[0m\u001b[0;34m,\u001b[0m\u001b[0;34m(\u001b[0m\u001b[0;36m3\u001b[0m\u001b[0;34m,\u001b[0m\u001b[0;36m1\u001b[0m\u001b[0;34m)\u001b[0m\u001b[0;34m,\u001b[0m\u001b[0;34m(\u001b[0m\u001b[0;36m5\u001b[0m\u001b[0;34m,\u001b[0m\u001b[0;36m8\u001b[0m\u001b[0;34m)\u001b[0m\u001b[0;34m]\u001b[0m\u001b[0;34m\u001b[0m\u001b[0;34m\u001b[0m\u001b[0m\n\u001b[1;32m      2\u001b[0m \u001b[0;34m\u001b[0m\u001b[0m\n\u001b[0;32m----> 3\u001b[0;31m \u001b[0msort\u001b[0m\u001b[0;34m(\u001b[0m\u001b[0mmy_list\u001b[0m\u001b[0;34m)\u001b[0m\u001b[0;34m\u001b[0m\u001b[0;34m\u001b[0m\u001b[0m\n\u001b[0m",
      "\u001b[0;31mNameError\u001b[0m: name 'sort' is not defined"
     ]
    }
   ],
   "source": [
    "my_list = [(1,4),(7,4),(3,1),(5,8)]\n",
    "\n",
    "sort(my_list,key="
   ]
  },
  {
   "cell_type": "code",
   "execution_count": 94,
   "id": "6529a59a",
   "metadata": {},
   "outputs": [
    {
     "data": {
      "text/plain": [
       "140476642477104"
      ]
     },
     "execution_count": 94,
     "metadata": {},
     "output_type": "execute_result"
    }
   ],
   "source": [
    "id(my_str12)"
   ]
  },
  {
   "cell_type": "markdown",
   "id": "feb94529",
   "metadata": {},
   "source": [
    "# .splitting and Joining strings"
   ]
  },
  {
   "cell_type": "code",
   "execution_count": 129,
   "id": "9ee71a24",
   "metadata": {},
   "outputs": [
    {
     "data": {
      "text/plain": [
       "['Hello Techo, my name is Techo', ' Not Vincent, but Dr', ' Techo']"
      ]
     },
     "execution_count": 129,
     "metadata": {},
     "output_type": "execute_result"
    }
   ],
   "source": [
    "str3 = \"Hello Techo, my name is Techo. Not Vincent, but Dr. Techo\"\n",
    "str3.split(\".\")"
   ]
  },
  {
   "cell_type": "code",
   "execution_count": 131,
   "id": "8eb68514",
   "metadata": {},
   "outputs": [
    {
     "data": {
      "text/plain": [
       "['Hello',\n",
       " 'Techo',\n",
       " 'my',\n",
       " 'name',\n",
       " 'is',\n",
       " 'Techo.',\n",
       " 'Not',\n",
       " 'Vincent,',\n",
       " 'but',\n",
       " 'Dr.',\n",
       " 'Techo']"
      ]
     },
     "execution_count": 131,
     "metadata": {},
     "output_type": "execute_result"
    }
   ],
   "source": [
    "str3 = \"Hello Techo my name is Techo. Not Vincent, but Dr. Techo\"\n",
    "str3.split()"
   ]
  },
  {
   "cell_type": "code",
   "execution_count": 132,
   "id": "2f5c5e79",
   "metadata": {},
   "outputs": [
    {
     "data": {
      "text/plain": [
       "['Hell', ' Tech', ', my name is Tech', '. N', 't Vincent, but Dr. Tech', '']"
      ]
     },
     "execution_count": 132,
     "metadata": {},
     "output_type": "execute_result"
    }
   ],
   "source": [
    "str3 = \"Hello Techo, my name is Techo. Not Vincent, but Dr. Techo\"\n",
    "str3.split(\"o\")"
   ]
  },
  {
   "cell_type": "code",
   "execution_count": 133,
   "id": "9ecd1e30",
   "metadata": {},
   "outputs": [
    {
     "name": "stdout",
     "output_type": "stream",
     "text": [
      "['Hi', 'Welcome', 'to', 'the', 'course']\n"
     ]
    }
   ],
   "source": [
    "str4 = \"Hi Welcome to the course\"\n",
    "test = str4.split(\" \")\n",
    "print(test)"
   ]
  },
  {
   "cell_type": "code",
   "execution_count": 134,
   "id": "b221afe9",
   "metadata": {},
   "outputs": [
    {
     "name": "stdout",
     "output_type": "stream",
     "text": [
      "['Hi', 'Welcome', 'to', 'the', 'course']\n",
      "Hi Welcome to the course\n"
     ]
    }
   ],
   "source": [
    "str4 = \"Hi Welcome to the course\"\n",
    "test = str4.split(\" \")\n",
    "print(test)\n",
    "test2 =\" \".join(test)\n",
    "print(test2)"
   ]
  },
  {
   "cell_type": "code",
   "execution_count": 139,
   "id": "be98f718",
   "metadata": {},
   "outputs": [
    {
     "data": {
      "text/plain": [
       "['1234567890']"
      ]
     },
     "execution_count": 139,
     "metadata": {},
     "output_type": "execute_result"
    }
   ],
   "source": [
    "numbers10 = \"1234567890\"\n",
    "numbers10.split()"
   ]
  },
  {
   "cell_type": "markdown",
   "id": "52f94154",
   "metadata": {},
   "source": [
    "# Program interchanging letters in a string"
   ]
  },
  {
   "cell_type": "code",
   "execution_count": 140,
   "id": "48bc3fe8",
   "metadata": {},
   "outputs": [
    {
     "data": {
      "text/plain": [
       "4"
      ]
     },
     "execution_count": 140,
     "metadata": {},
     "output_type": "execute_result"
    }
   ],
   "source": [
    "import math\n",
    "my_str =\"mystery\"\n",
    "length = len(my_str)\n",
    "mid_index = math.ceil(length/2)\n",
    "mid_index"
   ]
  },
  {
   "cell_type": "code",
   "execution_count": 141,
   "id": "18c200df",
   "metadata": {},
   "outputs": [
    {
     "name": "stdout",
     "output_type": "stream",
     "text": [
      "yysterm\n"
     ]
    }
   ],
   "source": [
    "#interchange first and last character of odd numbered word\n",
    "\n",
    "my_str2 = \"mystery\"\n",
    "print(my_str2[-1] + my_str2[1:-1] + my_str2[0])"
   ]
  },
  {
   "cell_type": "code",
   "execution_count": 152,
   "id": "4860f4a2",
   "metadata": {},
   "outputs": [
    {
     "name": "stdout",
     "output_type": "stream",
     "text": [
      "Enter an odd numbered word: Abracadabra\n",
      "abracadabrA\n"
     ]
    }
   ],
   "source": [
    "# Prompt input from user and then interchange first and last charaters\n",
    "my_str3 = input(\"Enter an odd numbered word: \")\n",
    "print(my_str3[-1] + my_str3[1:-1] + my_str3[0])"
   ]
  },
  {
   "cell_type": "code",
   "execution_count": 147,
   "id": "48246e91",
   "metadata": {},
   "outputs": [
    {
     "name": "stdout",
     "output_type": "stream",
     "text": [
      "tysmery\n"
     ]
    }
   ],
   "source": [
    "#interchange first and middle character of odd numbered word\n",
    "\n",
    "import math\n",
    "my_str =\"mystery\"\n",
    "length = len(my_str)\n",
    "mid_index = math.floor(length/2)\n",
    "print(my_str[mid_index:mid_index +1] + my_str[1:mid_index] + my_str[0] + my_str[mid_index + 1:])"
   ]
  },
  {
   "cell_type": "code",
   "execution_count": 144,
   "id": "b4ce95d4",
   "metadata": {},
   "outputs": [
    {
     "name": "stdout",
     "output_type": "stream",
     "text": [
      "Enter an odd numbered word: castilos\n",
      "tascilos\n"
     ]
    }
   ],
   "source": [
    "# Prompt input from user and then interchange first and middle charaters\n",
    "\n",
    "import math\n",
    "my_str1 = input(\"Enter an odd numbered word: \")\n",
    "length = len(my_str)\n",
    "mid_index = math.floor(length/2)\n",
    "print(my_str1[mid_index:mid_index +1] + my_str1[1:mid_index] + my_str1[0:1] + my_str1[mid_index + 1:])"
   ]
  },
  {
   "cell_type": "markdown",
   "id": "ef4ab9f0",
   "metadata": {},
   "source": [
    "## Program receives input from user an interchanges first and last characters"
   ]
  },
  {
   "cell_type": "code",
   "execution_count": 153,
   "id": "f619db5a",
   "metadata": {},
   "outputs": [
    {
     "name": "stdout",
     "output_type": "stream",
     "text": [
      "Enter a string of at least two: Abracadabra\n",
      "abracadabrA\n"
     ]
    }
   ],
   "source": [
    "#user input\n",
    "string = input (\"Enter a string of at least two: \")\n",
    "\n",
    "# interchanging characters\n",
    "new_string = string[-1] + string[1:-1] + string[0]\n",
    "\n",
    "#Display\n",
    "print(new_string)"
   ]
  },
  {
   "cell_type": "markdown",
   "id": "caaf43b5",
   "metadata": {},
   "source": [
    " # Program changes input from user to upper case."
   ]
  },
  {
   "cell_type": "code",
   "execution_count": 145,
   "id": "c079d618",
   "metadata": {},
   "outputs": [
    {
     "name": "stdout",
     "output_type": "stream",
     "text": [
      "Enter any word: jupiter\n",
      "JUPITER\n"
     ]
    }
   ],
   "source": [
    "print(input(\"Enter any word: \").upper())"
   ]
  },
  {
   "cell_type": "code",
   "execution_count": 154,
   "id": "4b963c79",
   "metadata": {},
   "outputs": [
    {
     "name": "stdout",
     "output_type": "stream",
     "text": [
      "Enter a string: Abracadabra\n",
      "ABR\n"
     ]
    }
   ],
   "source": [
    "# Print only first 3 characters in upper case\n",
    "\n",
    "print(input(\"Enter a string: \")[0:3].upper())"
   ]
  },
  {
   "cell_type": "markdown",
   "id": "49ae4219",
   "metadata": {},
   "source": [
    "## Program receives input from user and prints the string with the first half in upper case and the second half in lower case."
   ]
  },
  {
   "cell_type": "code",
   "execution_count": 150,
   "id": "7b640da6",
   "metadata": {},
   "outputs": [
    {
     "name": "stdout",
     "output_type": "stream",
     "text": [
      "Enter a word of at least two: JuPyTeR\n",
      "JUPY\n",
      "ter\n",
      "JUPYter\n"
     ]
    }
   ],
   "source": [
    "# First half longer if odd numbered\n",
    "import math\n",
    "\n",
    "# User input\n",
    "string1 = input(\"Enter a word of at least two: \")\n",
    "\n",
    "# finding halves\n",
    "left_half = string1[0:math.ceil(len(string1)/2)].upper()\n",
    "right_half = string1[math.ceil(len(string1)/2):].lower()\n",
    "\n",
    "#Printing\n",
    "print(left_half)\n",
    "print(right_half)\n",
    "print (left_half +right_half)"
   ]
  },
  {
   "cell_type": "code",
   "execution_count": 155,
   "id": "3437349d",
   "metadata": {},
   "outputs": [
    {
     "name": "stdout",
     "output_type": "stream",
     "text": [
      "Enter a word of at least two: Abracadabra\n",
      "ABRACadabra\n"
     ]
    }
   ],
   "source": [
    "# First half shorter if odd numbered\n",
    "\n",
    "import math\n",
    "# User input\n",
    "string1 = input(\"Enter a word of at least two: \")\n",
    "\n",
    "# finding halves\n",
    "left_half = string1[0:math.floor(len(string1)/2)].upper()\n",
    "right_half = string1[math.floor(len(string1)/2):].lower()\n",
    "\n",
    "#Printing\n",
    "print (left_half +right_half)"
   ]
  },
  {
   "cell_type": "markdown",
   "id": "c06f88a6",
   "metadata": {},
   "source": [
    "# Character codes:"
   ]
  },
  {
   "attachments": {
    "Screen%20Shot%202022-03-20%20at%209.46.19%20PM.jpg": {
     "image/jpeg": "[encoded data removed]"
    }
   },
   "cell_type": "markdown",
   "id": "8bd348f7",
   "metadata": {},
   "source": [
    "![Screen%20Shot%202022-03-20%20at%209.46.19%20PM.jpg](attachment:Screen%20Shot%202022-03-20%20at%209.46.19%20PM.jpg)"
   ]
  },
  {
   "cell_type": "markdown",
   "id": "cedf0194",
   "metadata": {},
   "source": [
    "### NB: The entire table need not be memorized , but there are some useful facts to remember:\n",
    "- the lowercase characters a, b, c, ..., z have consecutive character codes\n",
    "- the uppercase characters A, B, C, ..., Z have consecutive character codes\n",
    "- the digit characters 0, 1, 2, ..., 9 have consecutive character codes\n",
    "\n",
    "Character 32 is a space, while character 127 is one of several special \"control\" characters. Some useful control characters are 9, which is tab, and 10 and 13 which are used for [newlines](https://en.wikipedia.org/wiki/Newline)."
   ]
  },
  {
   "cell_type": "markdown",
   "id": "4e023f14",
   "metadata": {},
   "source": [
    "## Program receives uppercase letter from use, returns the next letter in the alphabet. Returns \"A\" if input is \"Z\""
   ]
  },
  {
   "cell_type": "code",
   "execution_count": 162,
   "id": "4422ddec",
   "metadata": {},
   "outputs": [
    {
     "name": "stdout",
     "output_type": "stream",
     "text": [
      "Enter a capital letter: J\n",
      "The next letter in the alphabet is:  K\n"
     ]
    }
   ],
   "source": [
    "letter = input(\"Enter a capital letter: \")\n",
    "if letter == \"Z\":\n",
    "   letter = \"A\"\n",
    "   cord = ord(letter)\n",
    "else:\n",
    "   cord = ord(letter) + 1\n",
    "\n",
    "letter1 = chr(cord)\n",
    "\n",
    "print(\"The next letter in the alphabet is: \",letter1)"
   ]
  },
  {
   "cell_type": "markdown",
   "id": "95716f40",
   "metadata": {},
   "source": [
    "### In Python, you can convert a character into its corresponding numerical code using the ord function. The chr function does the reverse: it takes a number as input, and returns the character with that code."
   ]
  },
  {
   "cell_type": "code",
   "execution_count": 1,
   "id": "2cbd6316",
   "metadata": {},
   "outputs": [
    {
     "name": "stdout",
     "output_type": "stream",
     "text": [
      "97 98 65 66 32\n",
      "# + d\n"
     ]
    }
   ],
   "source": [
    "print(ord('a'), ord('b'), ord('A'), ord('B'), ord(' '))\n",
    "print(chr(35), chr(43), chr(100))"
   ]
  },
  {
   "cell_type": "code",
   "execution_count": 11,
   "id": "a04c1e55",
   "metadata": {},
   "outputs": [
    {
     "name": "stdout",
     "output_type": "stream",
     "text": [
      "z\n",
      "a\n"
     ]
    }
   ],
   "source": [
    "# Write a program that takes a character; the output should be the next character in the alphabet.\n",
    "# If the input is 'Z', your output should be 'A', and if input is 'z', output should be 'a'\n",
    "\n",
    "take1 = input()\n",
    "cord = ord(take1)\n",
    "if take1 == \"Z\":\n",
    "    cord = ord(\"A\")\n",
    "elif take1 == \"z\":\n",
    "    cord = ord(\"a\")\n",
    "else:\n",
    "    cord = cord+1\n",
    "print(chr(cord))"
   ]
  },
  {
   "cell_type": "markdown",
   "id": "39e97e44",
   "metadata": {},
   "source": [
    "# [Pig Latin](https://en.wikipedia.org/wiki/Pig_Latin)"
   ]
  },
  {
   "cell_type": "markdown",
   "id": "3d4a49dd",
   "metadata": {},
   "source": [
    "### Pig Latin is a nonsense language. To transform a word from English to Pig Latin, you move the first letter to the end and add \"ay\" after that. For example, 'monkey' becomes 'onkeymay' in Pig Latin, and 'word' becomes 'ordway'. Write a program that takes a single word as input and translates it to Pig Latin. (In reality, Pig Latin has rules that are more complex than this, but we ignore them for the purposes of this exercise.)"
   ]
  },
  {
   "cell_type": "code",
   "execution_count": 12,
   "id": "5da26a91",
   "metadata": {},
   "outputs": [
    {
     "name": "stdout",
     "output_type": "stream",
     "text": [
      "English word: coordinate\n",
      "Pig Latin:  oordinatecay\n"
     ]
    }
   ],
   "source": [
    "word = input(\"English word: \")\n",
    "word1 = word[1:-1] + word[-1] + word[0] + \"ay\"\n",
    "print(\"Pig Latin: \",word1)"
   ]
  },
  {
   "cell_type": "code",
   "execution_count": 13,
   "id": "9ba0037f",
   "metadata": {},
   "outputs": [
    {
     "name": "stdout",
     "output_type": "stream",
     "text": [
      "boy\n",
      "oybay\n"
     ]
    }
   ],
   "source": [
    "word=input()\n",
    "print(word[1:]+word[0]+\"ay\")"
   ]
  },
  {
   "cell_type": "markdown",
   "id": "71619b80",
   "metadata": {},
   "source": [
    "# [The Name Game Song](https://youtu.be/NeF7jqf0GU4)"
   ]
  },
  {
   "cell_type": "code",
   "execution_count": 171,
   "id": "f09efb0b",
   "metadata": {},
   "outputs": [
    {
     "name": "stdout",
     "output_type": "stream",
     "text": [
      "Jimmy\n",
      "Jimmy, Jimmy, bo-bimmy\n",
      "banana-fana fo-fimmy\n",
      "fee-fi-mo-mimmy\n",
      "Jimmy!\n"
     ]
    }
   ],
   "source": [
    "name = input()\n",
    "\n",
    "print(name + \", \" + name + \", \" + \"bo-b\" + name[1:])\n",
    "\n",
    "print(\"banana-fana fo-f\" + name[1:])\n",
    "\n",
    "print(\"fee-fi-mo-m\" + name[1:])\n",
    "\n",
    "print(name + \"!\")"
   ]
  },
  {
   "cell_type": "code",
   "execution_count": 15,
   "id": "b2ec6d68",
   "metadata": {},
   "outputs": [
    {
     "name": "stdout",
     "output_type": "stream",
     "text": [
      "Tonny\n",
      "Tonny, Tonny, bo-Tonny\n",
      "banana-fana fo-fonny\n",
      "fee-fi-mo-monny\n",
      "Tonny!\n"
     ]
    }
   ],
   "source": [
    "name = input()\n",
    "\n",
    "print(name + ', '+ name + ', ' + 'bo-' +name)\n",
    "print('banana-fana fo-f' + name[1:])\n",
    "print('fee-fi-mo-m' + name[1:])\n",
    "print(name +'!')"
   ]
  },
  {
   "cell_type": "code",
   "execution_count": null,
   "id": "6c8c3ea6",
   "metadata": {},
   "outputs": [],
   "source": []
  }
 ],
 "metadata": {
  "kernelspec": {
   "display_name": "Python 3 (ipykernel)",
   "language": "python",
   "name": "python3"
  },
  "language_info": {
   "codemirror_mode": {
    "name": "ipython",
    "version": 3
   },
   "file_extension": ".py",
   "mimetype": "text/x-python",
   "name": "python",
   "nbconvert_exporter": "python",
   "pygments_lexer": "ipython3",
   "version": "3.9.7"
  }
 },
 "nbformat": 4,
 "nbformat_minor": 5
}
